{
 "cells": [
  {
   "cell_type": "code",
   "execution_count": 1,
   "id": "99c217bc",
   "metadata": {},
   "outputs": [],
   "source": [
    "import pandas as pd\n",
    "import numpy as np\n",
    "import matplotlib.pyplot as plt\n",
    "import seaborn as sns\n",
    "%matplotlib inline"
   ]
  },
  {
   "cell_type": "code",
   "execution_count": 2,
   "id": "843c6120",
   "metadata": {},
   "outputs": [],
   "source": [
    "train_df=  pd.read_excel('Data_Train.xlsx')"
   ]
  },
  {
   "cell_type": "code",
   "execution_count": 3,
   "id": "17d6d366",
   "metadata": {},
   "outputs": [
    {
     "name": "stdout",
     "output_type": "stream",
     "text": [
      "<class 'pandas.core.frame.DataFrame'>\n",
      "RangeIndex: 10683 entries, 0 to 10682\n",
      "Data columns (total 11 columns):\n",
      " #   Column           Non-Null Count  Dtype \n",
      "---  ------           --------------  ----- \n",
      " 0   Airline          10683 non-null  object\n",
      " 1   Date_of_Journey  10683 non-null  object\n",
      " 2   Source           10683 non-null  object\n",
      " 3   Destination      10683 non-null  object\n",
      " 4   Route            10682 non-null  object\n",
      " 5   Dep_Time         10683 non-null  object\n",
      " 6   Arrival_Time     10683 non-null  object\n",
      " 7   Duration         10683 non-null  object\n",
      " 8   Total_Stops      10682 non-null  object\n",
      " 9   Additional_Info  10683 non-null  object\n",
      " 10  Price            10683 non-null  int64 \n",
      "dtypes: int64(1), object(10)\n",
      "memory usage: 918.2+ KB\n"
     ]
    }
   ],
   "source": [
    "train_df.info()"
   ]
  },
  {
   "cell_type": "code",
   "execution_count": 4,
   "id": "c31b8249",
   "metadata": {},
   "outputs": [],
   "source": [
    "test_df = pd.read_excel('Test_set.xlsx')"
   ]
  },
  {
   "cell_type": "code",
   "execution_count": 5,
   "id": "ed036886",
   "metadata": {},
   "outputs": [
    {
     "name": "stdout",
     "output_type": "stream",
     "text": [
      "<class 'pandas.core.frame.DataFrame'>\n",
      "RangeIndex: 2671 entries, 0 to 2670\n",
      "Data columns (total 10 columns):\n",
      " #   Column           Non-Null Count  Dtype \n",
      "---  ------           --------------  ----- \n",
      " 0   Airline          2671 non-null   object\n",
      " 1   Date_of_Journey  2671 non-null   object\n",
      " 2   Source           2671 non-null   object\n",
      " 3   Destination      2671 non-null   object\n",
      " 4   Route            2671 non-null   object\n",
      " 5   Dep_Time         2671 non-null   object\n",
      " 6   Arrival_Time     2671 non-null   object\n",
      " 7   Duration         2671 non-null   object\n",
      " 8   Total_Stops      2671 non-null   object\n",
      " 9   Additional_Info  2671 non-null   object\n",
      "dtypes: object(10)\n",
      "memory usage: 208.8+ KB\n"
     ]
    }
   ],
   "source": [
    "test_df.info()"
   ]
  },
  {
   "cell_type": "markdown",
   "id": "57f16fb7",
   "metadata": {},
   "source": [
    "#### Combining the two dataframes for data pre-processing purpose"
   ]
  },
  {
   "cell_type": "code",
   "execution_count": 6,
   "id": "f0c608ff",
   "metadata": {},
   "outputs": [
    {
     "name": "stdout",
     "output_type": "stream",
     "text": [
      "<class 'pandas.core.frame.DataFrame'>\n",
      "Int64Index: 13354 entries, 0 to 2670\n",
      "Data columns (total 11 columns):\n",
      " #   Column           Non-Null Count  Dtype  \n",
      "---  ------           --------------  -----  \n",
      " 0   Airline          13354 non-null  object \n",
      " 1   Date_of_Journey  13354 non-null  object \n",
      " 2   Source           13354 non-null  object \n",
      " 3   Destination      13354 non-null  object \n",
      " 4   Route            13353 non-null  object \n",
      " 5   Dep_Time         13354 non-null  object \n",
      " 6   Arrival_Time     13354 non-null  object \n",
      " 7   Duration         13354 non-null  object \n",
      " 8   Total_Stops      13353 non-null  object \n",
      " 9   Additional_Info  13354 non-null  object \n",
      " 10  Price            10683 non-null  float64\n",
      "dtypes: float64(1), object(10)\n",
      "memory usage: 1.2+ MB\n"
     ]
    }
   ],
   "source": [
    "df= train_df.append(test_df)\n",
    "df.info()"
   ]
  },
  {
   "cell_type": "code",
   "execution_count": 7,
   "id": "19c28a89",
   "metadata": {},
   "outputs": [
    {
     "data": {
      "text/html": [
       "<div>\n",
       "<style scoped>\n",
       "    .dataframe tbody tr th:only-of-type {\n",
       "        vertical-align: middle;\n",
       "    }\n",
       "\n",
       "    .dataframe tbody tr th {\n",
       "        vertical-align: top;\n",
       "    }\n",
       "\n",
       "    .dataframe thead th {\n",
       "        text-align: right;\n",
       "    }\n",
       "</style>\n",
       "<table border=\"1\" class=\"dataframe\">\n",
       "  <thead>\n",
       "    <tr style=\"text-align: right;\">\n",
       "      <th></th>\n",
       "      <th>Airline</th>\n",
       "      <th>Date_of_Journey</th>\n",
       "      <th>Source</th>\n",
       "      <th>Destination</th>\n",
       "      <th>Route</th>\n",
       "      <th>Dep_Time</th>\n",
       "      <th>Arrival_Time</th>\n",
       "      <th>Duration</th>\n",
       "      <th>Total_Stops</th>\n",
       "      <th>Additional_Info</th>\n",
       "      <th>Price</th>\n",
       "    </tr>\n",
       "  </thead>\n",
       "  <tbody>\n",
       "    <tr>\n",
       "      <th>0</th>\n",
       "      <td>IndiGo</td>\n",
       "      <td>24/03/2019</td>\n",
       "      <td>Banglore</td>\n",
       "      <td>New Delhi</td>\n",
       "      <td>BLR → DEL</td>\n",
       "      <td>22:20</td>\n",
       "      <td>01:10 22 Mar</td>\n",
       "      <td>2h 50m</td>\n",
       "      <td>non-stop</td>\n",
       "      <td>No info</td>\n",
       "      <td>3897.0</td>\n",
       "    </tr>\n",
       "    <tr>\n",
       "      <th>1</th>\n",
       "      <td>Air India</td>\n",
       "      <td>1/05/2019</td>\n",
       "      <td>Kolkata</td>\n",
       "      <td>Banglore</td>\n",
       "      <td>CCU → IXR → BBI → BLR</td>\n",
       "      <td>05:50</td>\n",
       "      <td>13:15</td>\n",
       "      <td>7h 25m</td>\n",
       "      <td>2 stops</td>\n",
       "      <td>No info</td>\n",
       "      <td>7662.0</td>\n",
       "    </tr>\n",
       "    <tr>\n",
       "      <th>2</th>\n",
       "      <td>Jet Airways</td>\n",
       "      <td>9/06/2019</td>\n",
       "      <td>Delhi</td>\n",
       "      <td>Cochin</td>\n",
       "      <td>DEL → LKO → BOM → COK</td>\n",
       "      <td>09:25</td>\n",
       "      <td>04:25 10 Jun</td>\n",
       "      <td>19h</td>\n",
       "      <td>2 stops</td>\n",
       "      <td>No info</td>\n",
       "      <td>13882.0</td>\n",
       "    </tr>\n",
       "    <tr>\n",
       "      <th>3</th>\n",
       "      <td>IndiGo</td>\n",
       "      <td>12/05/2019</td>\n",
       "      <td>Kolkata</td>\n",
       "      <td>Banglore</td>\n",
       "      <td>CCU → NAG → BLR</td>\n",
       "      <td>18:05</td>\n",
       "      <td>23:30</td>\n",
       "      <td>5h 25m</td>\n",
       "      <td>1 stop</td>\n",
       "      <td>No info</td>\n",
       "      <td>6218.0</td>\n",
       "    </tr>\n",
       "    <tr>\n",
       "      <th>4</th>\n",
       "      <td>IndiGo</td>\n",
       "      <td>01/03/2019</td>\n",
       "      <td>Banglore</td>\n",
       "      <td>New Delhi</td>\n",
       "      <td>BLR → NAG → DEL</td>\n",
       "      <td>16:50</td>\n",
       "      <td>21:35</td>\n",
       "      <td>4h 45m</td>\n",
       "      <td>1 stop</td>\n",
       "      <td>No info</td>\n",
       "      <td>13302.0</td>\n",
       "    </tr>\n",
       "  </tbody>\n",
       "</table>\n",
       "</div>"
      ],
      "text/plain": [
       "       Airline Date_of_Journey    Source Destination                  Route  \\\n",
       "0       IndiGo      24/03/2019  Banglore   New Delhi              BLR → DEL   \n",
       "1    Air India       1/05/2019   Kolkata    Banglore  CCU → IXR → BBI → BLR   \n",
       "2  Jet Airways       9/06/2019     Delhi      Cochin  DEL → LKO → BOM → COK   \n",
       "3       IndiGo      12/05/2019   Kolkata    Banglore        CCU → NAG → BLR   \n",
       "4       IndiGo      01/03/2019  Banglore   New Delhi        BLR → NAG → DEL   \n",
       "\n",
       "  Dep_Time  Arrival_Time Duration Total_Stops Additional_Info    Price  \n",
       "0    22:20  01:10 22 Mar   2h 50m    non-stop         No info   3897.0  \n",
       "1    05:50         13:15   7h 25m     2 stops         No info   7662.0  \n",
       "2    09:25  04:25 10 Jun      19h     2 stops         No info  13882.0  \n",
       "3    18:05         23:30   5h 25m      1 stop         No info   6218.0  \n",
       "4    16:50         21:35   4h 45m      1 stop         No info  13302.0  "
      ]
     },
     "execution_count": 7,
     "metadata": {},
     "output_type": "execute_result"
    }
   ],
   "source": [
    "df.head()"
   ]
  },
  {
   "cell_type": "code",
   "execution_count": 8,
   "id": "371057c8",
   "metadata": {},
   "outputs": [
    {
     "data": {
      "text/html": [
       "<div>\n",
       "<style scoped>\n",
       "    .dataframe tbody tr th:only-of-type {\n",
       "        vertical-align: middle;\n",
       "    }\n",
       "\n",
       "    .dataframe tbody tr th {\n",
       "        vertical-align: top;\n",
       "    }\n",
       "\n",
       "    .dataframe thead th {\n",
       "        text-align: right;\n",
       "    }\n",
       "</style>\n",
       "<table border=\"1\" class=\"dataframe\">\n",
       "  <thead>\n",
       "    <tr style=\"text-align: right;\">\n",
       "      <th></th>\n",
       "      <th>Airline</th>\n",
       "      <th>Date_of_Journey</th>\n",
       "      <th>Source</th>\n",
       "      <th>Destination</th>\n",
       "      <th>Route</th>\n",
       "      <th>Dep_Time</th>\n",
       "      <th>Arrival_Time</th>\n",
       "      <th>Duration</th>\n",
       "      <th>Total_Stops</th>\n",
       "      <th>Additional_Info</th>\n",
       "      <th>Price</th>\n",
       "    </tr>\n",
       "  </thead>\n",
       "  <tbody>\n",
       "    <tr>\n",
       "      <th>2666</th>\n",
       "      <td>Air India</td>\n",
       "      <td>6/06/2019</td>\n",
       "      <td>Kolkata</td>\n",
       "      <td>Banglore</td>\n",
       "      <td>CCU → DEL → BLR</td>\n",
       "      <td>20:30</td>\n",
       "      <td>20:25 07 Jun</td>\n",
       "      <td>23h 55m</td>\n",
       "      <td>1 stop</td>\n",
       "      <td>No info</td>\n",
       "      <td>NaN</td>\n",
       "    </tr>\n",
       "    <tr>\n",
       "      <th>2667</th>\n",
       "      <td>IndiGo</td>\n",
       "      <td>27/03/2019</td>\n",
       "      <td>Kolkata</td>\n",
       "      <td>Banglore</td>\n",
       "      <td>CCU → BLR</td>\n",
       "      <td>14:20</td>\n",
       "      <td>16:55</td>\n",
       "      <td>2h 35m</td>\n",
       "      <td>non-stop</td>\n",
       "      <td>No info</td>\n",
       "      <td>NaN</td>\n",
       "    </tr>\n",
       "    <tr>\n",
       "      <th>2668</th>\n",
       "      <td>Jet Airways</td>\n",
       "      <td>6/03/2019</td>\n",
       "      <td>Delhi</td>\n",
       "      <td>Cochin</td>\n",
       "      <td>DEL → BOM → COK</td>\n",
       "      <td>21:50</td>\n",
       "      <td>04:25 07 Mar</td>\n",
       "      <td>6h 35m</td>\n",
       "      <td>1 stop</td>\n",
       "      <td>No info</td>\n",
       "      <td>NaN</td>\n",
       "    </tr>\n",
       "    <tr>\n",
       "      <th>2669</th>\n",
       "      <td>Air India</td>\n",
       "      <td>6/03/2019</td>\n",
       "      <td>Delhi</td>\n",
       "      <td>Cochin</td>\n",
       "      <td>DEL → BOM → COK</td>\n",
       "      <td>04:00</td>\n",
       "      <td>19:15</td>\n",
       "      <td>15h 15m</td>\n",
       "      <td>1 stop</td>\n",
       "      <td>No info</td>\n",
       "      <td>NaN</td>\n",
       "    </tr>\n",
       "    <tr>\n",
       "      <th>2670</th>\n",
       "      <td>Multiple carriers</td>\n",
       "      <td>15/06/2019</td>\n",
       "      <td>Delhi</td>\n",
       "      <td>Cochin</td>\n",
       "      <td>DEL → BOM → COK</td>\n",
       "      <td>04:55</td>\n",
       "      <td>19:15</td>\n",
       "      <td>14h 20m</td>\n",
       "      <td>1 stop</td>\n",
       "      <td>No info</td>\n",
       "      <td>NaN</td>\n",
       "    </tr>\n",
       "  </tbody>\n",
       "</table>\n",
       "</div>"
      ],
      "text/plain": [
       "                Airline Date_of_Journey   Source Destination            Route  \\\n",
       "2666          Air India       6/06/2019  Kolkata    Banglore  CCU → DEL → BLR   \n",
       "2667             IndiGo      27/03/2019  Kolkata    Banglore        CCU → BLR   \n",
       "2668        Jet Airways       6/03/2019    Delhi      Cochin  DEL → BOM → COK   \n",
       "2669          Air India       6/03/2019    Delhi      Cochin  DEL → BOM → COK   \n",
       "2670  Multiple carriers      15/06/2019    Delhi      Cochin  DEL → BOM → COK   \n",
       "\n",
       "     Dep_Time  Arrival_Time Duration Total_Stops Additional_Info  Price  \n",
       "2666    20:30  20:25 07 Jun  23h 55m      1 stop         No info    NaN  \n",
       "2667    14:20         16:55   2h 35m    non-stop         No info    NaN  \n",
       "2668    21:50  04:25 07 Mar   6h 35m      1 stop         No info    NaN  \n",
       "2669    04:00         19:15  15h 15m      1 stop         No info    NaN  \n",
       "2670    04:55         19:15  14h 20m      1 stop         No info    NaN  "
      ]
     },
     "execution_count": 8,
     "metadata": {},
     "output_type": "execute_result"
    }
   ],
   "source": [
    "df.tail()"
   ]
  },
  {
   "cell_type": "markdown",
   "id": "cf31b97a",
   "metadata": {},
   "source": [
    "### Missing Values"
   ]
  },
  {
   "cell_type": "code",
   "execution_count": 9,
   "id": "9eb681a0",
   "metadata": {},
   "outputs": [
    {
     "data": {
      "text/plain": [
       "Airline               0\n",
       "Date_of_Journey       0\n",
       "Source                0\n",
       "Destination           0\n",
       "Route                 1\n",
       "Dep_Time              0\n",
       "Arrival_Time          0\n",
       "Duration              0\n",
       "Total_Stops           1\n",
       "Additional_Info       0\n",
       "Price              2671\n",
       "dtype: int64"
      ]
     },
     "execution_count": 9,
     "metadata": {},
     "output_type": "execute_result"
    }
   ],
   "source": [
    "df.isnull().sum()"
   ]
  },
  {
   "cell_type": "markdown",
   "id": "6da272d4",
   "metadata": {},
   "source": [
    "##### one record for Route and Total_Stops are missing. checking to see if they are same record."
   ]
  },
  {
   "cell_type": "code",
   "execution_count": 10,
   "id": "77b60986",
   "metadata": {},
   "outputs": [
    {
     "data": {
      "text/html": [
       "<div>\n",
       "<style scoped>\n",
       "    .dataframe tbody tr th:only-of-type {\n",
       "        vertical-align: middle;\n",
       "    }\n",
       "\n",
       "    .dataframe tbody tr th {\n",
       "        vertical-align: top;\n",
       "    }\n",
       "\n",
       "    .dataframe thead th {\n",
       "        text-align: right;\n",
       "    }\n",
       "</style>\n",
       "<table border=\"1\" class=\"dataframe\">\n",
       "  <thead>\n",
       "    <tr style=\"text-align: right;\">\n",
       "      <th></th>\n",
       "      <th>Airline</th>\n",
       "      <th>Date_of_Journey</th>\n",
       "      <th>Source</th>\n",
       "      <th>Destination</th>\n",
       "      <th>Route</th>\n",
       "      <th>Dep_Time</th>\n",
       "      <th>Arrival_Time</th>\n",
       "      <th>Duration</th>\n",
       "      <th>Total_Stops</th>\n",
       "      <th>Additional_Info</th>\n",
       "      <th>Price</th>\n",
       "    </tr>\n",
       "  </thead>\n",
       "  <tbody>\n",
       "    <tr>\n",
       "      <th>9039</th>\n",
       "      <td>Air India</td>\n",
       "      <td>6/05/2019</td>\n",
       "      <td>Delhi</td>\n",
       "      <td>Cochin</td>\n",
       "      <td>NaN</td>\n",
       "      <td>09:45</td>\n",
       "      <td>09:25 07 May</td>\n",
       "      <td>23h 40m</td>\n",
       "      <td>NaN</td>\n",
       "      <td>No info</td>\n",
       "      <td>7480.0</td>\n",
       "    </tr>\n",
       "  </tbody>\n",
       "</table>\n",
       "</div>"
      ],
      "text/plain": [
       "        Airline Date_of_Journey Source Destination Route Dep_Time  \\\n",
       "9039  Air India       6/05/2019  Delhi      Cochin   NaN    09:45   \n",
       "\n",
       "      Arrival_Time Duration Total_Stops Additional_Info   Price  \n",
       "9039  09:25 07 May  23h 40m         NaN         No info  7480.0  "
      ]
     },
     "execution_count": 10,
     "metadata": {},
     "output_type": "execute_result"
    }
   ],
   "source": [
    "df[df['Route'].isna()]"
   ]
  },
  {
   "cell_type": "code",
   "execution_count": 11,
   "id": "508943da",
   "metadata": {},
   "outputs": [
    {
     "data": {
      "text/plain": [
       "1 stop      7056\n",
       "non-stop    4340\n",
       "2 stops     1899\n",
       "3 stops       56\n",
       "4 stops        2\n",
       "Name: Total_Stops, dtype: int64"
      ]
     },
     "execution_count": 11,
     "metadata": {},
     "output_type": "execute_result"
    }
   ],
   "source": [
    "df['Total_Stops'].value_counts()"
   ]
  },
  {
   "cell_type": "code",
   "execution_count": 12,
   "id": "03e7cd2c",
   "metadata": {},
   "outputs": [
    {
     "data": {
      "text/plain": [
       "6315.816901408451"
      ]
     },
     "execution_count": 12,
     "metadata": {},
     "output_type": "execute_result"
    }
   ],
   "source": [
    "df[(df['Source']=='Delhi') & (df['Destination']=='Cochin') & (df['Total_Stops']=='non-stop')]['Price'].mean()"
   ]
  },
  {
   "cell_type": "code",
   "execution_count": 13,
   "id": "e4965fe0",
   "metadata": {},
   "outputs": [
    {
     "data": {
      "text/plain": [
       "10030.822605965463"
      ]
     },
     "execution_count": 13,
     "metadata": {},
     "output_type": "execute_result"
    }
   ],
   "source": [
    "df[(df['Source']=='Delhi') & (df['Destination']=='Cochin') & (df['Total_Stops']=='1 stop')]['Price'].mean()"
   ]
  },
  {
   "cell_type": "code",
   "execution_count": 14,
   "id": "98fd4567",
   "metadata": {},
   "outputs": [
    {
     "data": {
      "text/plain": [
       "12752.03953279425"
      ]
     },
     "execution_count": 14,
     "metadata": {},
     "output_type": "execute_result"
    }
   ],
   "source": [
    "df[(df['Source']=='Delhi') & (df['Destination']=='Cochin') & (df['Total_Stops']=='2 stops')]['Price'].mean()"
   ]
  },
  {
   "cell_type": "markdown",
   "id": "b007dda1",
   "metadata": {},
   "source": [
    "#### Observations\n",
    "as the mean price for non-stop Flights from Delhi to Cochin is much closer to the price of record with missing route and stop details, compared to the other flights with multiple stops in the same route, It would be logical to fill the missing value with 'non-stop' value."
   ]
  },
  {
   "cell_type": "code",
   "execution_count": 15,
   "id": "30038d87",
   "metadata": {},
   "outputs": [],
   "source": [
    "df['Total_Stops'].fillna('non-stop',inplace=True)"
   ]
  },
  {
   "cell_type": "code",
   "execution_count": 16,
   "id": "2d579f69",
   "metadata": {},
   "outputs": [
    {
     "data": {
      "text/plain": [
       "Airline               0\n",
       "Date_of_Journey       0\n",
       "Source                0\n",
       "Destination           0\n",
       "Route                 1\n",
       "Dep_Time              0\n",
       "Arrival_Time          0\n",
       "Duration              0\n",
       "Total_Stops           0\n",
       "Additional_Info       0\n",
       "Price              2671\n",
       "dtype: int64"
      ]
     },
     "execution_count": 16,
     "metadata": {},
     "output_type": "execute_result"
    }
   ],
   "source": [
    "df.isnull().sum()"
   ]
  },
  {
   "cell_type": "markdown",
   "id": "ab642df6",
   "metadata": {},
   "source": [
    "#### Observations\n",
    "The path given in Route can be interpreted by checking the Total_Stops column, so we can safely drop Route column"
   ]
  },
  {
   "cell_type": "markdown",
   "id": "301df5cf",
   "metadata": {},
   "source": [
    "### Feature Engineering"
   ]
  },
  {
   "cell_type": "code",
   "execution_count": 17,
   "id": "0fb17354",
   "metadata": {},
   "outputs": [],
   "source": [
    "## Split Date_of_Journey to date, month and year\n",
    "df['Date']= df['Date_of_Journey'].str.split('/').str[0]\n",
    "df['Month']= df['Date_of_Journey'].str.split('/').str[1]\n",
    "df['Year']= df['Date_of_Journey'].str.split('/').str[2]"
   ]
  },
  {
   "cell_type": "code",
   "execution_count": 18,
   "id": "ab591b6b",
   "metadata": {},
   "outputs": [
    {
     "data": {
      "text/html": [
       "<div>\n",
       "<style scoped>\n",
       "    .dataframe tbody tr th:only-of-type {\n",
       "        vertical-align: middle;\n",
       "    }\n",
       "\n",
       "    .dataframe tbody tr th {\n",
       "        vertical-align: top;\n",
       "    }\n",
       "\n",
       "    .dataframe thead th {\n",
       "        text-align: right;\n",
       "    }\n",
       "</style>\n",
       "<table border=\"1\" class=\"dataframe\">\n",
       "  <thead>\n",
       "    <tr style=\"text-align: right;\">\n",
       "      <th></th>\n",
       "      <th>Airline</th>\n",
       "      <th>Date_of_Journey</th>\n",
       "      <th>Source</th>\n",
       "      <th>Destination</th>\n",
       "      <th>Route</th>\n",
       "      <th>Dep_Time</th>\n",
       "      <th>Arrival_Time</th>\n",
       "      <th>Duration</th>\n",
       "      <th>Total_Stops</th>\n",
       "      <th>Additional_Info</th>\n",
       "      <th>Price</th>\n",
       "      <th>Date</th>\n",
       "      <th>Month</th>\n",
       "      <th>Year</th>\n",
       "    </tr>\n",
       "  </thead>\n",
       "  <tbody>\n",
       "    <tr>\n",
       "      <th>0</th>\n",
       "      <td>IndiGo</td>\n",
       "      <td>24/03/2019</td>\n",
       "      <td>Banglore</td>\n",
       "      <td>New Delhi</td>\n",
       "      <td>BLR → DEL</td>\n",
       "      <td>22:20</td>\n",
       "      <td>01:10 22 Mar</td>\n",
       "      <td>2h 50m</td>\n",
       "      <td>non-stop</td>\n",
       "      <td>No info</td>\n",
       "      <td>3897.0</td>\n",
       "      <td>24</td>\n",
       "      <td>03</td>\n",
       "      <td>2019</td>\n",
       "    </tr>\n",
       "    <tr>\n",
       "      <th>1</th>\n",
       "      <td>Air India</td>\n",
       "      <td>1/05/2019</td>\n",
       "      <td>Kolkata</td>\n",
       "      <td>Banglore</td>\n",
       "      <td>CCU → IXR → BBI → BLR</td>\n",
       "      <td>05:50</td>\n",
       "      <td>13:15</td>\n",
       "      <td>7h 25m</td>\n",
       "      <td>2 stops</td>\n",
       "      <td>No info</td>\n",
       "      <td>7662.0</td>\n",
       "      <td>1</td>\n",
       "      <td>05</td>\n",
       "      <td>2019</td>\n",
       "    </tr>\n",
       "  </tbody>\n",
       "</table>\n",
       "</div>"
      ],
      "text/plain": [
       "     Airline Date_of_Journey    Source Destination                  Route  \\\n",
       "0     IndiGo      24/03/2019  Banglore   New Delhi              BLR → DEL   \n",
       "1  Air India       1/05/2019   Kolkata    Banglore  CCU → IXR → BBI → BLR   \n",
       "\n",
       "  Dep_Time  Arrival_Time Duration Total_Stops Additional_Info   Price Date  \\\n",
       "0    22:20  01:10 22 Mar   2h 50m    non-stop         No info  3897.0   24   \n",
       "1    05:50         13:15   7h 25m     2 stops         No info  7662.0    1   \n",
       "\n",
       "  Month  Year  \n",
       "0    03  2019  \n",
       "1    05  2019  "
      ]
     },
     "execution_count": 18,
     "metadata": {},
     "output_type": "execute_result"
    }
   ],
   "source": [
    "df.head(2)"
   ]
  },
  {
   "cell_type": "code",
   "execution_count": 19,
   "id": "04b5e158",
   "metadata": {},
   "outputs": [],
   "source": [
    "df['Date']= df['Date'].astype(int)\n",
    "df['Month']= df['Month'].astype(int)\n",
    "df['Year']= df['Year'].astype(int)"
   ]
  },
  {
   "cell_type": "code",
   "execution_count": 20,
   "id": "d4357ba3",
   "metadata": {},
   "outputs": [],
   "source": [
    "df['Date_of_Journey'] =  pd.to_datetime(df['Date_of_Journey'], format='%d/%m/%Y')"
   ]
  },
  {
   "cell_type": "code",
   "execution_count": 21,
   "id": "b69d8d6e",
   "metadata": {},
   "outputs": [
    {
     "name": "stdout",
     "output_type": "stream",
     "text": [
      "<class 'pandas.core.frame.DataFrame'>\n",
      "Int64Index: 13354 entries, 0 to 2670\n",
      "Data columns (total 14 columns):\n",
      " #   Column           Non-Null Count  Dtype         \n",
      "---  ------           --------------  -----         \n",
      " 0   Airline          13354 non-null  object        \n",
      " 1   Date_of_Journey  13354 non-null  datetime64[ns]\n",
      " 2   Source           13354 non-null  object        \n",
      " 3   Destination      13354 non-null  object        \n",
      " 4   Route            13353 non-null  object        \n",
      " 5   Dep_Time         13354 non-null  object        \n",
      " 6   Arrival_Time     13354 non-null  object        \n",
      " 7   Duration         13354 non-null  object        \n",
      " 8   Total_Stops      13354 non-null  object        \n",
      " 9   Additional_Info  13354 non-null  object        \n",
      " 10  Price            10683 non-null  float64       \n",
      " 11  Date             13354 non-null  int32         \n",
      " 12  Month            13354 non-null  int32         \n",
      " 13  Year             13354 non-null  int32         \n",
      "dtypes: datetime64[ns](1), float64(1), int32(3), object(9)\n",
      "memory usage: 1.4+ MB\n"
     ]
    }
   ],
   "source": [
    "df.info()"
   ]
  },
  {
   "cell_type": "code",
   "execution_count": 22,
   "id": "0ae40f67",
   "metadata": {},
   "outputs": [
    {
     "data": {
      "text/plain": [
       "19:00           536\n",
       "21:00           466\n",
       "19:15           434\n",
       "16:10           185\n",
       "12:35           159\n",
       "               ... \n",
       "06:50 10 Jun      1\n",
       "01:20 13 Mar      1\n",
       "23:00 16 May      1\n",
       "22:40 16 May      1\n",
       "00:15 22 Apr      1\n",
       "Name: Arrival_Time, Length: 1451, dtype: int64"
      ]
     },
     "execution_count": 22,
     "metadata": {},
     "output_type": "execute_result"
    }
   ],
   "source": [
    "# Split Arrival_Time and Dep_Time\n",
    "df['Arrival_Time'].value_counts()"
   ]
  },
  {
   "cell_type": "code",
   "execution_count": 23,
   "id": "6fdd16ae",
   "metadata": {},
   "outputs": [
    {
     "data": {
      "text/plain": [
       "18:55    288\n",
       "17:00    275\n",
       "10:00    265\n",
       "07:05    240\n",
       "07:10    239\n",
       "        ... \n",
       "16:25      1\n",
       "12:05      1\n",
       "22:25      1\n",
       "21:40      1\n",
       "03:00      1\n",
       "Name: Dep_Time, Length: 223, dtype: int64"
      ]
     },
     "execution_count": 23,
     "metadata": {},
     "output_type": "execute_result"
    }
   ],
   "source": [
    "df['Dep_Time'].value_counts()"
   ]
  },
  {
   "cell_type": "code",
   "execution_count": 24,
   "id": "ba366b8c",
   "metadata": {},
   "outputs": [],
   "source": [
    "# from arrival time, need to remove the date portion, as that is redundant information\n",
    "df['Arrival_Time']= df['Arrival_Time'].apply(lambda x: x.split()[0]) "
   ]
  },
  {
   "cell_type": "code",
   "execution_count": 25,
   "id": "b3e75fce",
   "metadata": {},
   "outputs": [
    {
     "data": {
      "text/plain": [
       "19:00    780\n",
       "19:15    732\n",
       "04:25    719\n",
       "12:35    533\n",
       "21:00    466\n",
       "        ... \n",
       "11:15      1\n",
       "16:00      1\n",
       "03:40      1\n",
       "13:10      1\n",
       "16:40      1\n",
       "Name: Arrival_Time, Length: 223, dtype: int64"
      ]
     },
     "execution_count": 25,
     "metadata": {},
     "output_type": "execute_result"
    }
   ],
   "source": [
    "df['Arrival_Time'].value_counts()"
   ]
  },
  {
   "cell_type": "code",
   "execution_count": 26,
   "id": "f59f0b0c",
   "metadata": {},
   "outputs": [],
   "source": [
    "## Now split arrival and departure time into hour and minute\n",
    "df['Arrival_Hour'] = df['Arrival_Time'].apply(lambda x: x.split(':')[0])\n",
    "df['Arrival_Minute'] = df['Arrival_Time'].apply(lambda x: x.split(':')[1])\n",
    "df['Dep_Hour'] = df['Dep_Time'].apply(lambda x: x.split(':')[0])\n",
    "df['Dep_Minute'] = df['Dep_Time'].apply(lambda x: x.split(':')[1])"
   ]
  },
  {
   "cell_type": "code",
   "execution_count": 27,
   "id": "1276c9f7",
   "metadata": {},
   "outputs": [],
   "source": [
    "df['Arrival_Hour']= df['Arrival_Hour'].astype(int)\n",
    "df['Arrival_Minute']= df['Arrival_Minute'].astype(int)\n",
    "df['Dep_Hour']= df['Dep_Hour'].astype(int)\n",
    "df['Dep_Minute']= df['Dep_Minute'].astype(int)"
   ]
  },
  {
   "cell_type": "code",
   "execution_count": 28,
   "id": "34468c64",
   "metadata": {},
   "outputs": [
    {
     "name": "stdout",
     "output_type": "stream",
     "text": [
      "<class 'pandas.core.frame.DataFrame'>\n",
      "Int64Index: 13354 entries, 0 to 2670\n",
      "Data columns (total 18 columns):\n",
      " #   Column           Non-Null Count  Dtype         \n",
      "---  ------           --------------  -----         \n",
      " 0   Airline          13354 non-null  object        \n",
      " 1   Date_of_Journey  13354 non-null  datetime64[ns]\n",
      " 2   Source           13354 non-null  object        \n",
      " 3   Destination      13354 non-null  object        \n",
      " 4   Route            13353 non-null  object        \n",
      " 5   Dep_Time         13354 non-null  object        \n",
      " 6   Arrival_Time     13354 non-null  object        \n",
      " 7   Duration         13354 non-null  object        \n",
      " 8   Total_Stops      13354 non-null  object        \n",
      " 9   Additional_Info  13354 non-null  object        \n",
      " 10  Price            10683 non-null  float64       \n",
      " 11  Date             13354 non-null  int32         \n",
      " 12  Month            13354 non-null  int32         \n",
      " 13  Year             13354 non-null  int32         \n",
      " 14  Arrival_Hour     13354 non-null  int32         \n",
      " 15  Arrival_Minute   13354 non-null  int32         \n",
      " 16  Dep_Hour         13354 non-null  int32         \n",
      " 17  Dep_Minute       13354 non-null  int32         \n",
      "dtypes: datetime64[ns](1), float64(1), int32(7), object(9)\n",
      "memory usage: 1.6+ MB\n"
     ]
    }
   ],
   "source": [
    "df.info()"
   ]
  },
  {
   "cell_type": "code",
   "execution_count": 29,
   "id": "4e537403",
   "metadata": {},
   "outputs": [],
   "source": [
    "## Splitting the Duration to Hour and Minutes.\n",
    "duration_list = df['Duration'].to_list()\n",
    "hour_list=[]\n",
    "minute_list=[]\n",
    "for time in duration_list:\n",
    "    hour=0\n",
    "    minute=0\n",
    "    time_list= time.split()\n",
    "    hour= time_list[0][:-1]\n",
    "    if len(time_list)>1:\n",
    "        minute= time_list[1][:-1]\n",
    "    \n",
    "    hour_list.append(hour)\n",
    "    minute_list.append(minute)\n",
    "    \n",
    "df['Duration_hour']= hour_list\n",
    "df['Duration_minute']= minute_list"
   ]
  },
  {
   "cell_type": "code",
   "execution_count": 30,
   "id": "a69b30b4",
   "metadata": {},
   "outputs": [],
   "source": [
    "df['Duration_hour']= df['Duration_hour'].astype(int)\n",
    "df['Duration_minute']= df['Duration_minute'].astype(int)"
   ]
  },
  {
   "cell_type": "code",
   "execution_count": 31,
   "id": "cfda5ae2",
   "metadata": {},
   "outputs": [
    {
     "data": {
      "text/html": [
       "<div>\n",
       "<style scoped>\n",
       "    .dataframe tbody tr th:only-of-type {\n",
       "        vertical-align: middle;\n",
       "    }\n",
       "\n",
       "    .dataframe tbody tr th {\n",
       "        vertical-align: top;\n",
       "    }\n",
       "\n",
       "    .dataframe thead th {\n",
       "        text-align: right;\n",
       "    }\n",
       "</style>\n",
       "<table border=\"1\" class=\"dataframe\">\n",
       "  <thead>\n",
       "    <tr style=\"text-align: right;\">\n",
       "      <th></th>\n",
       "      <th>Airline</th>\n",
       "      <th>Date_of_Journey</th>\n",
       "      <th>Source</th>\n",
       "      <th>Destination</th>\n",
       "      <th>Route</th>\n",
       "      <th>Dep_Time</th>\n",
       "      <th>Arrival_Time</th>\n",
       "      <th>Duration</th>\n",
       "      <th>Total_Stops</th>\n",
       "      <th>Additional_Info</th>\n",
       "      <th>Price</th>\n",
       "      <th>Date</th>\n",
       "      <th>Month</th>\n",
       "      <th>Year</th>\n",
       "      <th>Arrival_Hour</th>\n",
       "      <th>Arrival_Minute</th>\n",
       "      <th>Dep_Hour</th>\n",
       "      <th>Dep_Minute</th>\n",
       "      <th>Duration_hour</th>\n",
       "      <th>Duration_minute</th>\n",
       "    </tr>\n",
       "  </thead>\n",
       "  <tbody>\n",
       "    <tr>\n",
       "      <th>0</th>\n",
       "      <td>IndiGo</td>\n",
       "      <td>2019-03-24</td>\n",
       "      <td>Banglore</td>\n",
       "      <td>New Delhi</td>\n",
       "      <td>BLR → DEL</td>\n",
       "      <td>22:20</td>\n",
       "      <td>01:10</td>\n",
       "      <td>2h 50m</td>\n",
       "      <td>non-stop</td>\n",
       "      <td>No info</td>\n",
       "      <td>3897.0</td>\n",
       "      <td>24</td>\n",
       "      <td>3</td>\n",
       "      <td>2019</td>\n",
       "      <td>1</td>\n",
       "      <td>10</td>\n",
       "      <td>22</td>\n",
       "      <td>20</td>\n",
       "      <td>2</td>\n",
       "      <td>50</td>\n",
       "    </tr>\n",
       "    <tr>\n",
       "      <th>1</th>\n",
       "      <td>Air India</td>\n",
       "      <td>2019-05-01</td>\n",
       "      <td>Kolkata</td>\n",
       "      <td>Banglore</td>\n",
       "      <td>CCU → IXR → BBI → BLR</td>\n",
       "      <td>05:50</td>\n",
       "      <td>13:15</td>\n",
       "      <td>7h 25m</td>\n",
       "      <td>2 stops</td>\n",
       "      <td>No info</td>\n",
       "      <td>7662.0</td>\n",
       "      <td>1</td>\n",
       "      <td>5</td>\n",
       "      <td>2019</td>\n",
       "      <td>13</td>\n",
       "      <td>15</td>\n",
       "      <td>5</td>\n",
       "      <td>50</td>\n",
       "      <td>7</td>\n",
       "      <td>25</td>\n",
       "    </tr>\n",
       "  </tbody>\n",
       "</table>\n",
       "</div>"
      ],
      "text/plain": [
       "     Airline Date_of_Journey    Source Destination                  Route  \\\n",
       "0     IndiGo      2019-03-24  Banglore   New Delhi              BLR → DEL   \n",
       "1  Air India      2019-05-01   Kolkata    Banglore  CCU → IXR → BBI → BLR   \n",
       "\n",
       "  Dep_Time Arrival_Time Duration Total_Stops Additional_Info   Price  Date  \\\n",
       "0    22:20        01:10   2h 50m    non-stop         No info  3897.0    24   \n",
       "1    05:50        13:15   7h 25m     2 stops         No info  7662.0     1   \n",
       "\n",
       "   Month  Year  Arrival_Hour  Arrival_Minute  Dep_Hour  Dep_Minute  \\\n",
       "0      3  2019             1              10        22          20   \n",
       "1      5  2019            13              15         5          50   \n",
       "\n",
       "   Duration_hour  Duration_minute  \n",
       "0              2               50  \n",
       "1              7               25  "
      ]
     },
     "execution_count": 31,
     "metadata": {},
     "output_type": "execute_result"
    }
   ],
   "source": [
    "df.head(2)"
   ]
  },
  {
   "cell_type": "code",
   "execution_count": 32,
   "id": "5b949963",
   "metadata": {},
   "outputs": [],
   "source": [
    "def calc_minutes(hour,minute):\n",
    "    return (hour*60 + minute)\n",
    "\n",
    "df['Duration']= df.apply(lambda x: calc_minutes(x['Duration_hour'],x['Duration_minute']),axis=1)\n",
    "# always provide axis=1 to avoid key error"
   ]
  },
  {
   "cell_type": "code",
   "execution_count": 33,
   "id": "6c22232f",
   "metadata": {},
   "outputs": [
    {
     "data": {
      "text/html": [
       "<div>\n",
       "<style scoped>\n",
       "    .dataframe tbody tr th:only-of-type {\n",
       "        vertical-align: middle;\n",
       "    }\n",
       "\n",
       "    .dataframe tbody tr th {\n",
       "        vertical-align: top;\n",
       "    }\n",
       "\n",
       "    .dataframe thead th {\n",
       "        text-align: right;\n",
       "    }\n",
       "</style>\n",
       "<table border=\"1\" class=\"dataframe\">\n",
       "  <thead>\n",
       "    <tr style=\"text-align: right;\">\n",
       "      <th></th>\n",
       "      <th>Airline</th>\n",
       "      <th>Date_of_Journey</th>\n",
       "      <th>Source</th>\n",
       "      <th>Destination</th>\n",
       "      <th>Route</th>\n",
       "      <th>Dep_Time</th>\n",
       "      <th>Arrival_Time</th>\n",
       "      <th>Duration</th>\n",
       "      <th>Total_Stops</th>\n",
       "      <th>Additional_Info</th>\n",
       "      <th>Price</th>\n",
       "      <th>Date</th>\n",
       "      <th>Month</th>\n",
       "      <th>Year</th>\n",
       "      <th>Arrival_Hour</th>\n",
       "      <th>Arrival_Minute</th>\n",
       "      <th>Dep_Hour</th>\n",
       "      <th>Dep_Minute</th>\n",
       "      <th>Duration_hour</th>\n",
       "      <th>Duration_minute</th>\n",
       "    </tr>\n",
       "  </thead>\n",
       "  <tbody>\n",
       "    <tr>\n",
       "      <th>0</th>\n",
       "      <td>IndiGo</td>\n",
       "      <td>2019-03-24</td>\n",
       "      <td>Banglore</td>\n",
       "      <td>New Delhi</td>\n",
       "      <td>BLR → DEL</td>\n",
       "      <td>22:20</td>\n",
       "      <td>01:10</td>\n",
       "      <td>170</td>\n",
       "      <td>non-stop</td>\n",
       "      <td>No info</td>\n",
       "      <td>3897.0</td>\n",
       "      <td>24</td>\n",
       "      <td>3</td>\n",
       "      <td>2019</td>\n",
       "      <td>1</td>\n",
       "      <td>10</td>\n",
       "      <td>22</td>\n",
       "      <td>20</td>\n",
       "      <td>2</td>\n",
       "      <td>50</td>\n",
       "    </tr>\n",
       "    <tr>\n",
       "      <th>1</th>\n",
       "      <td>Air India</td>\n",
       "      <td>2019-05-01</td>\n",
       "      <td>Kolkata</td>\n",
       "      <td>Banglore</td>\n",
       "      <td>CCU → IXR → BBI → BLR</td>\n",
       "      <td>05:50</td>\n",
       "      <td>13:15</td>\n",
       "      <td>445</td>\n",
       "      <td>2 stops</td>\n",
       "      <td>No info</td>\n",
       "      <td>7662.0</td>\n",
       "      <td>1</td>\n",
       "      <td>5</td>\n",
       "      <td>2019</td>\n",
       "      <td>13</td>\n",
       "      <td>15</td>\n",
       "      <td>5</td>\n",
       "      <td>50</td>\n",
       "      <td>7</td>\n",
       "      <td>25</td>\n",
       "    </tr>\n",
       "  </tbody>\n",
       "</table>\n",
       "</div>"
      ],
      "text/plain": [
       "     Airline Date_of_Journey    Source Destination                  Route  \\\n",
       "0     IndiGo      2019-03-24  Banglore   New Delhi              BLR → DEL   \n",
       "1  Air India      2019-05-01   Kolkata    Banglore  CCU → IXR → BBI → BLR   \n",
       "\n",
       "  Dep_Time Arrival_Time  Duration Total_Stops Additional_Info   Price  Date  \\\n",
       "0    22:20        01:10       170    non-stop         No info  3897.0    24   \n",
       "1    05:50        13:15       445     2 stops         No info  7662.0     1   \n",
       "\n",
       "   Month  Year  Arrival_Hour  Arrival_Minute  Dep_Hour  Dep_Minute  \\\n",
       "0      3  2019             1              10        22          20   \n",
       "1      5  2019            13              15         5          50   \n",
       "\n",
       "   Duration_hour  Duration_minute  \n",
       "0              2               50  \n",
       "1              7               25  "
      ]
     },
     "execution_count": 33,
     "metadata": {},
     "output_type": "execute_result"
    }
   ],
   "source": [
    "df.head(2)"
   ]
  },
  {
   "cell_type": "code",
   "execution_count": 34,
   "id": "2aeabd25",
   "metadata": {},
   "outputs": [
    {
     "data": {
      "text/plain": [
       "1 stop      7056\n",
       "non-stop    4341\n",
       "2 stops     1899\n",
       "3 stops       56\n",
       "4 stops        2\n",
       "Name: Total_Stops, dtype: int64"
      ]
     },
     "execution_count": 34,
     "metadata": {},
     "output_type": "execute_result"
    }
   ],
   "source": [
    "df['Total_Stops'].value_counts()"
   ]
  },
  {
   "cell_type": "code",
   "execution_count": 35,
   "id": "5d188e55",
   "metadata": {},
   "outputs": [],
   "source": [
    "## Convert Total_Stops to numerical\n",
    "stops_dict= {'non-stop':0,'1 stop':1,'2 stops':2,'3 stops':3, '4 stops':4}\n",
    "\n",
    "df['Total_Stops']= df['Total_Stops'].apply(lambda x: stops_dict[x]) "
   ]
  },
  {
   "cell_type": "code",
   "execution_count": 36,
   "id": "5d447f45",
   "metadata": {},
   "outputs": [
    {
     "data": {
      "text/plain": [
       "1    7056\n",
       "0    4341\n",
       "2    1899\n",
       "3      56\n",
       "4       2\n",
       "Name: Total_Stops, dtype: int64"
      ]
     },
     "execution_count": 36,
     "metadata": {},
     "output_type": "execute_result"
    }
   ],
   "source": [
    "df['Total_Stops'].value_counts()"
   ]
  },
  {
   "cell_type": "code",
   "execution_count": 37,
   "id": "4ecaf786",
   "metadata": {},
   "outputs": [
    {
     "data": {
      "text/plain": [
       "No info                         10493\n",
       "In-flight meal not included      2426\n",
       "No check-in baggage included      396\n",
       "1 Long layover                     20\n",
       "Change airports                     8\n",
       "Business class                      5\n",
       "No Info                             3\n",
       "2 Long layover                      1\n",
       "Red-eye flight                      1\n",
       "1 Short layover                     1\n",
       "Name: Additional_Info, dtype: int64"
      ]
     },
     "execution_count": 37,
     "metadata": {},
     "output_type": "execute_result"
    }
   ],
   "source": [
    "df['Additional_Info'].value_counts()"
   ]
  },
  {
   "cell_type": "code",
   "execution_count": 38,
   "id": "a0819f46",
   "metadata": {},
   "outputs": [
    {
     "data": {
      "text/html": [
       "<div>\n",
       "<style scoped>\n",
       "    .dataframe tbody tr th:only-of-type {\n",
       "        vertical-align: middle;\n",
       "    }\n",
       "\n",
       "    .dataframe tbody tr th {\n",
       "        vertical-align: top;\n",
       "    }\n",
       "\n",
       "    .dataframe thead th {\n",
       "        text-align: right;\n",
       "    }\n",
       "</style>\n",
       "<table border=\"1\" class=\"dataframe\">\n",
       "  <thead>\n",
       "    <tr style=\"text-align: right;\">\n",
       "      <th></th>\n",
       "      <th>Airline</th>\n",
       "      <th>Date_of_Journey</th>\n",
       "      <th>Source</th>\n",
       "      <th>Destination</th>\n",
       "      <th>Route</th>\n",
       "      <th>Dep_Time</th>\n",
       "      <th>Arrival_Time</th>\n",
       "      <th>Duration</th>\n",
       "      <th>Total_Stops</th>\n",
       "      <th>Additional_Info</th>\n",
       "      <th>Price</th>\n",
       "      <th>Date</th>\n",
       "      <th>Month</th>\n",
       "      <th>Year</th>\n",
       "      <th>Arrival_Hour</th>\n",
       "      <th>Arrival_Minute</th>\n",
       "      <th>Dep_Hour</th>\n",
       "      <th>Dep_Minute</th>\n",
       "      <th>Duration_hour</th>\n",
       "      <th>Duration_minute</th>\n",
       "    </tr>\n",
       "  </thead>\n",
       "  <tbody>\n",
       "    <tr>\n",
       "      <th>10456</th>\n",
       "      <td>Jet Airways</td>\n",
       "      <td>2019-03-06</td>\n",
       "      <td>Delhi</td>\n",
       "      <td>Cochin</td>\n",
       "      <td>DEL → AMD → BOM → COK</td>\n",
       "      <td>19:10</td>\n",
       "      <td>18:50</td>\n",
       "      <td>2860</td>\n",
       "      <td>2</td>\n",
       "      <td>No info</td>\n",
       "      <td>20694.0</td>\n",
       "      <td>6</td>\n",
       "      <td>3</td>\n",
       "      <td>2019</td>\n",
       "      <td>18</td>\n",
       "      <td>50</td>\n",
       "      <td>19</td>\n",
       "      <td>10</td>\n",
       "      <td>47</td>\n",
       "      <td>40</td>\n",
       "    </tr>\n",
       "  </tbody>\n",
       "</table>\n",
       "</div>"
      ],
      "text/plain": [
       "           Airline Date_of_Journey Source Destination                  Route  \\\n",
       "10456  Jet Airways      2019-03-06  Delhi      Cochin  DEL → AMD → BOM → COK   \n",
       "\n",
       "      Dep_Time Arrival_Time  Duration  Total_Stops Additional_Info    Price  \\\n",
       "10456    19:10        18:50      2860            2         No info  20694.0   \n",
       "\n",
       "       Date  Month  Year  Arrival_Hour  Arrival_Minute  Dep_Hour  Dep_Minute  \\\n",
       "10456     6      3  2019            18              50        19          10   \n",
       "\n",
       "       Duration_hour  Duration_minute  \n",
       "10456             47               40  "
      ]
     },
     "execution_count": 38,
     "metadata": {},
     "output_type": "execute_result"
    }
   ],
   "source": [
    "df[df['Duration']== df['Duration'].max()]"
   ]
  },
  {
   "cell_type": "markdown",
   "id": "15828135",
   "metadata": {},
   "source": [
    "### Visualizations"
   ]
  },
  {
   "cell_type": "code",
   "execution_count": 46,
   "id": "b9e8c1d8",
   "metadata": {},
   "outputs": [
    {
     "data": {
      "text/plain": [
       "<AxesSubplot:xlabel='Source', ylabel='Price'>"
      ]
     },
     "execution_count": 46,
     "metadata": {},
     "output_type": "execute_result"
    },
    {
     "data": {
      "image/png": "[encoded data removed]",
      "text/plain": [
       "<Figure size 864x432 with 1 Axes>"
      ]
     },
     "metadata": {
      "needs_background": "light"
     },
     "output_type": "display_data"
    }
   ],
   "source": [
    "# Price Vs. Source\n",
    "plt.figure(figsize=(12,6))\n",
    "sns.boxplot(x='Source',y='Price',data=df)"
   ]
  },
  {
   "cell_type": "markdown",
   "id": "1398db5c",
   "metadata": {},
   "source": [
    "#### Observations\n",
    "Flights from Bangalore and Delhi as Source has some outlier data for price. <br>\n",
    "Flights leaving from New Delhi are the most expensive. <br>\n",
    "Flights leaving from Mumbai are the cheapest"
   ]
  },
  {
   "cell_type": "code",
   "execution_count": 51,
   "id": "2b4f3fd7",
   "metadata": {},
   "outputs": [
    {
     "data": {
      "text/html": [
       "<div>\n",
       "<style scoped>\n",
       "    .dataframe tbody tr th:only-of-type {\n",
       "        vertical-align: middle;\n",
       "    }\n",
       "\n",
       "    .dataframe tbody tr th {\n",
       "        vertical-align: top;\n",
       "    }\n",
       "\n",
       "    .dataframe thead th {\n",
       "        text-align: right;\n",
       "    }\n",
       "</style>\n",
       "<table border=\"1\" class=\"dataframe\">\n",
       "  <thead>\n",
       "    <tr style=\"text-align: right;\">\n",
       "      <th></th>\n",
       "      <th>Airline</th>\n",
       "      <th>Date_of_Journey</th>\n",
       "      <th>Source</th>\n",
       "      <th>Destination</th>\n",
       "      <th>Route</th>\n",
       "      <th>Dep_Time</th>\n",
       "      <th>Arrival_Time</th>\n",
       "      <th>Duration</th>\n",
       "      <th>Total_Stops</th>\n",
       "      <th>Additional_Info</th>\n",
       "      <th>Price</th>\n",
       "      <th>Date</th>\n",
       "      <th>Month</th>\n",
       "      <th>Year</th>\n",
       "      <th>Arrival_Hour</th>\n",
       "      <th>Arrival_Minute</th>\n",
       "      <th>Dep_Hour</th>\n",
       "      <th>Dep_Minute</th>\n",
       "      <th>Duration_hour</th>\n",
       "      <th>Duration_minute</th>\n",
       "    </tr>\n",
       "  </thead>\n",
       "  <tbody>\n",
       "    <tr>\n",
       "      <th>657</th>\n",
       "      <td>Jet Airways Business</td>\n",
       "      <td>2019-03-01</td>\n",
       "      <td>Banglore</td>\n",
       "      <td>New Delhi</td>\n",
       "      <td>BLR → BOM → DEL</td>\n",
       "      <td>05:45</td>\n",
       "      <td>10:45</td>\n",
       "      <td>300</td>\n",
       "      <td>1</td>\n",
       "      <td>No info</td>\n",
       "      <td>52229.0</td>\n",
       "      <td>1</td>\n",
       "      <td>3</td>\n",
       "      <td>2019</td>\n",
       "      <td>10</td>\n",
       "      <td>45</td>\n",
       "      <td>5</td>\n",
       "      <td>45</td>\n",
       "      <td>5</td>\n",
       "      <td>0</td>\n",
       "    </tr>\n",
       "    <tr>\n",
       "      <th>1478</th>\n",
       "      <td>Jet Airways</td>\n",
       "      <td>2019-03-18</td>\n",
       "      <td>Banglore</td>\n",
       "      <td>New Delhi</td>\n",
       "      <td>BLR → BOM → DEL</td>\n",
       "      <td>18:40</td>\n",
       "      <td>00:45</td>\n",
       "      <td>365</td>\n",
       "      <td>1</td>\n",
       "      <td>No info</td>\n",
       "      <td>54826.0</td>\n",
       "      <td>18</td>\n",
       "      <td>3</td>\n",
       "      <td>2019</td>\n",
       "      <td>0</td>\n",
       "      <td>45</td>\n",
       "      <td>18</td>\n",
       "      <td>40</td>\n",
       "      <td>6</td>\n",
       "      <td>5</td>\n",
       "    </tr>\n",
       "    <tr>\n",
       "      <th>2618</th>\n",
       "      <td>Jet Airways</td>\n",
       "      <td>2019-03-18</td>\n",
       "      <td>Banglore</td>\n",
       "      <td>New Delhi</td>\n",
       "      <td>BLR → BOM → DEL</td>\n",
       "      <td>22:50</td>\n",
       "      <td>05:05</td>\n",
       "      <td>375</td>\n",
       "      <td>1</td>\n",
       "      <td>No info</td>\n",
       "      <td>54826.0</td>\n",
       "      <td>18</td>\n",
       "      <td>3</td>\n",
       "      <td>2019</td>\n",
       "      <td>5</td>\n",
       "      <td>5</td>\n",
       "      <td>22</td>\n",
       "      <td>50</td>\n",
       "      <td>6</td>\n",
       "      <td>15</td>\n",
       "    </tr>\n",
       "    <tr>\n",
       "      <th>2924</th>\n",
       "      <td>Jet Airways Business</td>\n",
       "      <td>2019-03-01</td>\n",
       "      <td>Banglore</td>\n",
       "      <td>New Delhi</td>\n",
       "      <td>BLR → BOM → DEL</td>\n",
       "      <td>05:45</td>\n",
       "      <td>11:25</td>\n",
       "      <td>340</td>\n",
       "      <td>1</td>\n",
       "      <td>Business class</td>\n",
       "      <td>79512.0</td>\n",
       "      <td>1</td>\n",
       "      <td>3</td>\n",
       "      <td>2019</td>\n",
       "      <td>11</td>\n",
       "      <td>25</td>\n",
       "      <td>5</td>\n",
       "      <td>45</td>\n",
       "      <td>5</td>\n",
       "      <td>40</td>\n",
       "    </tr>\n",
       "    <tr>\n",
       "      <th>5372</th>\n",
       "      <td>Jet Airways Business</td>\n",
       "      <td>2019-03-01</td>\n",
       "      <td>Banglore</td>\n",
       "      <td>New Delhi</td>\n",
       "      <td>BLR → BOM → DEL</td>\n",
       "      <td>05:45</td>\n",
       "      <td>12:25</td>\n",
       "      <td>400</td>\n",
       "      <td>1</td>\n",
       "      <td>Business class</td>\n",
       "      <td>62427.0</td>\n",
       "      <td>1</td>\n",
       "      <td>3</td>\n",
       "      <td>2019</td>\n",
       "      <td>12</td>\n",
       "      <td>25</td>\n",
       "      <td>5</td>\n",
       "      <td>45</td>\n",
       "      <td>6</td>\n",
       "      <td>40</td>\n",
       "    </tr>\n",
       "    <tr>\n",
       "      <th>5439</th>\n",
       "      <td>Jet Airways</td>\n",
       "      <td>2019-03-01</td>\n",
       "      <td>Banglore</td>\n",
       "      <td>New Delhi</td>\n",
       "      <td>BLR → BOM → DEL</td>\n",
       "      <td>16:55</td>\n",
       "      <td>23:00</td>\n",
       "      <td>365</td>\n",
       "      <td>1</td>\n",
       "      <td>No info</td>\n",
       "      <td>54826.0</td>\n",
       "      <td>1</td>\n",
       "      <td>3</td>\n",
       "      <td>2019</td>\n",
       "      <td>23</td>\n",
       "      <td>0</td>\n",
       "      <td>16</td>\n",
       "      <td>55</td>\n",
       "      <td>6</td>\n",
       "      <td>5</td>\n",
       "    </tr>\n",
       "    <tr>\n",
       "      <th>10364</th>\n",
       "      <td>Jet Airways Business</td>\n",
       "      <td>2019-03-01</td>\n",
       "      <td>Banglore</td>\n",
       "      <td>New Delhi</td>\n",
       "      <td>BLR → MAA → DEL</td>\n",
       "      <td>09:45</td>\n",
       "      <td>14:25</td>\n",
       "      <td>280</td>\n",
       "      <td>1</td>\n",
       "      <td>Business class</td>\n",
       "      <td>57209.0</td>\n",
       "      <td>1</td>\n",
       "      <td>3</td>\n",
       "      <td>2019</td>\n",
       "      <td>14</td>\n",
       "      <td>25</td>\n",
       "      <td>9</td>\n",
       "      <td>45</td>\n",
       "      <td>4</td>\n",
       "      <td>40</td>\n",
       "    </tr>\n",
       "  </tbody>\n",
       "</table>\n",
       "</div>"
      ],
      "text/plain": [
       "                    Airline Date_of_Journey    Source Destination  \\\n",
       "657    Jet Airways Business      2019-03-01  Banglore   New Delhi   \n",
       "1478            Jet Airways      2019-03-18  Banglore   New Delhi   \n",
       "2618            Jet Airways      2019-03-18  Banglore   New Delhi   \n",
       "2924   Jet Airways Business      2019-03-01  Banglore   New Delhi   \n",
       "5372   Jet Airways Business      2019-03-01  Banglore   New Delhi   \n",
       "5439            Jet Airways      2019-03-01  Banglore   New Delhi   \n",
       "10364  Jet Airways Business      2019-03-01  Banglore   New Delhi   \n",
       "\n",
       "                 Route Dep_Time Arrival_Time  Duration  Total_Stops  \\\n",
       "657    BLR → BOM → DEL    05:45        10:45       300            1   \n",
       "1478   BLR → BOM → DEL    18:40        00:45       365            1   \n",
       "2618   BLR → BOM → DEL    22:50        05:05       375            1   \n",
       "2924   BLR → BOM → DEL    05:45        11:25       340            1   \n",
       "5372   BLR → BOM → DEL    05:45        12:25       400            1   \n",
       "5439   BLR → BOM → DEL    16:55        23:00       365            1   \n",
       "10364  BLR → MAA → DEL    09:45        14:25       280            1   \n",
       "\n",
       "      Additional_Info    Price  Date  Month  Year  Arrival_Hour  \\\n",
       "657           No info  52229.0     1      3  2019            10   \n",
       "1478          No info  54826.0    18      3  2019             0   \n",
       "2618          No info  54826.0    18      3  2019             5   \n",
       "2924   Business class  79512.0     1      3  2019            11   \n",
       "5372   Business class  62427.0     1      3  2019            12   \n",
       "5439          No info  54826.0     1      3  2019            23   \n",
       "10364  Business class  57209.0     1      3  2019            14   \n",
       "\n",
       "       Arrival_Minute  Dep_Hour  Dep_Minute  Duration_hour  Duration_minute  \n",
       "657                45         5          45              5                0  \n",
       "1478               45        18          40              6                5  \n",
       "2618                5        22          50              6               15  \n",
       "2924               25         5          45              5               40  \n",
       "5372               25         5          45              6               40  \n",
       "5439                0        16          55              6                5  \n",
       "10364              25         9          45              4               40  "
      ]
     },
     "execution_count": 51,
     "metadata": {},
     "output_type": "execute_result"
    }
   ],
   "source": [
    "df[(df['Source']=='Banglore') & (df['Price']>40000)]"
   ]
  },
  {
   "cell_type": "code",
   "execution_count": 52,
   "id": "906ce0fe",
   "metadata": {},
   "outputs": [
    {
     "data": {
      "text/plain": [
       "<AxesSubplot:xlabel='Destination', ylabel='Price'>"
      ]
     },
     "execution_count": 52,
     "metadata": {},
     "output_type": "execute_result"
    },
    {
     "data": {
      "image/png": "[encoded data removed]",
      "text/plain": [
       "<Figure size 864x432 with 1 Axes>"
      ]
     },
     "metadata": {
      "needs_background": "light"
     },
     "output_type": "display_data"
    }
   ],
   "source": [
    "# Price Vs. Destination\n",
    "plt.figure(figsize=(12,6))\n",
    "sns.boxplot(x='Destination',y='Price',data=df)"
   ]
  },
  {
   "cell_type": "markdown",
   "id": "19be1c2b",
   "metadata": {},
   "source": [
    "#### Obervations\n",
    "Flights going to New Delhi are the most expensive. <br>\n",
    "Flights going to Hyderabad are the cheapest"
   ]
  },
  {
   "cell_type": "code",
   "execution_count": 55,
   "id": "93441d14",
   "metadata": {},
   "outputs": [
    {
     "data": {
      "text/plain": [
       "<AxesSubplot:xlabel='Month', ylabel='Price'>"
      ]
     },
     "execution_count": 55,
     "metadata": {},
     "output_type": "execute_result"
    },
    {
     "data": {
      "image/png": "[encoded data removed]",
      "text/plain": [
       "<Figure size 864x432 with 1 Axes>"
      ]
     },
     "metadata": {
      "needs_background": "light"
     },
     "output_type": "display_data"
    }
   ],
   "source": [
    "# Price Vs. Month\n",
    "plt.figure(figsize=(12,6))\n",
    "sns.boxplot(x='Month',y='Price',data=df)"
   ]
  },
  {
   "cell_type": "code",
   "execution_count": 56,
   "id": "8edde7b4",
   "metadata": {},
   "outputs": [
    {
     "data": {
      "text/plain": [
       "<AxesSubplot:xlabel='Date', ylabel='Price'>"
      ]
     },
     "execution_count": 56,
     "metadata": {},
     "output_type": "execute_result"
    },
    {
     "data": {
      "image/png": "[encoded data removed]",
      "text/plain": [
       "<Figure size 1440x432 with 1 Axes>"
      ]
     },
     "metadata": {
      "needs_background": "light"
     },
     "output_type": "display_data"
    }
   ],
   "source": [
    "# Price Vs. Days in March\n",
    "plt.figure(figsize=(20,6))\n",
    "sns.boxplot(x='Date',y='Price',data=df[df['Month']==3])"
   ]
  },
  {
   "cell_type": "code",
   "execution_count": 57,
   "id": "431fded5",
   "metadata": {},
   "outputs": [
    {
     "data": {
      "text/plain": [
       "<AxesSubplot:xlabel='Date', ylabel='Price'>"
      ]
     },
     "execution_count": 57,
     "metadata": {},
     "output_type": "execute_result"
    },
    {
     "data": {
      "image/png": "[encoded data removed]",
      "text/plain": [
       "<Figure size 1440x432 with 1 Axes>"
      ]
     },
     "metadata": {
      "needs_background": "light"
     },
     "output_type": "display_data"
    }
   ],
   "source": [
    "# Price Vs. Days in April\n",
    "plt.figure(figsize=(20,6))\n",
    "sns.boxplot(x='Date',y='Price',data=df[df['Month']==4])"
   ]
  },
  {
   "cell_type": "markdown",
   "id": "c00608c6",
   "metadata": {},
   "source": [
    "#### Observations\n",
    "Flights during the month of March, specifically during the beginning of the March are most expensive. <br>\n",
    "Flights in April are the cheapest"
   ]
  },
  {
   "cell_type": "code",
   "execution_count": 58,
   "id": "4628e982",
   "metadata": {},
   "outputs": [
    {
     "data": {
      "text/plain": [
       "<AxesSubplot:xlabel='Source', ylabel='count'>"
      ]
     },
     "execution_count": 58,
     "metadata": {},
     "output_type": "execute_result"
    },
    {
     "data": {
      "image/png": "[encoded data removed]",
      "text/plain": [
       "<Figure size 432x288 with 1 Axes>"
      ]
     },
     "metadata": {
      "needs_background": "light"
     },
     "output_type": "display_data"
    }
   ],
   "source": [
    "sns.countplot(x='Source',data=df)"
   ]
  },
  {
   "cell_type": "code",
   "execution_count": 59,
   "id": "4a4d4f54",
   "metadata": {},
   "outputs": [
    {
     "data": {
      "text/plain": [
       "<AxesSubplot:xlabel='Destination', ylabel='count'>"
      ]
     },
     "execution_count": 59,
     "metadata": {},
     "output_type": "execute_result"
    },
    {
     "data": {
      "image/png": "[encoded data removed]",
      "text/plain": [
       "<Figure size 432x288 with 1 Axes>"
      ]
     },
     "metadata": {
      "needs_background": "light"
     },
     "output_type": "display_data"
    }
   ],
   "source": [
    "sns.countplot(x='Destination',data=df)"
   ]
  },
  {
   "cell_type": "code",
   "execution_count": 60,
   "id": "d595f8aa",
   "metadata": {},
   "outputs": [
    {
     "data": {
      "text/plain": [
       "<AxesSubplot:xlabel='Month', ylabel='count'>"
      ]
     },
     "execution_count": 60,
     "metadata": {},
     "output_type": "execute_result"
    },
    {
     "data": {
      "image/png": "[encoded data removed]",
      "text/plain": [
       "<Figure size 432x288 with 1 Axes>"
      ]
     },
     "metadata": {
      "needs_background": "light"
     },
     "output_type": "display_data"
    }
   ],
   "source": [
    "sns.countplot(x='Month',data=df)"
   ]
  },
  {
   "cell_type": "markdown",
   "id": "764bc4b2",
   "metadata": {},
   "source": [
    "#### Observations\n",
    "May and June are the busiest months of the year"
   ]
  },
  {
   "cell_type": "code",
   "execution_count": 66,
   "id": "96e38456",
   "metadata": {},
   "outputs": [],
   "source": [
    "df['src-des']= df.apply(lambda x: x['Source']+'-'+x['Destination'], axis=1)"
   ]
  },
  {
   "cell_type": "code",
   "execution_count": 67,
   "id": "78f88725",
   "metadata": {},
   "outputs": [
    {
     "data": {
      "text/html": [
       "<div>\n",
       "<style scoped>\n",
       "    .dataframe tbody tr th:only-of-type {\n",
       "        vertical-align: middle;\n",
       "    }\n",
       "\n",
       "    .dataframe tbody tr th {\n",
       "        vertical-align: top;\n",
       "    }\n",
       "\n",
       "    .dataframe thead th {\n",
       "        text-align: right;\n",
       "    }\n",
       "</style>\n",
       "<table border=\"1\" class=\"dataframe\">\n",
       "  <thead>\n",
       "    <tr style=\"text-align: right;\">\n",
       "      <th></th>\n",
       "      <th>Airline</th>\n",
       "      <th>Date_of_Journey</th>\n",
       "      <th>Source</th>\n",
       "      <th>Destination</th>\n",
       "      <th>Route</th>\n",
       "      <th>Dep_Time</th>\n",
       "      <th>Arrival_Time</th>\n",
       "      <th>Duration</th>\n",
       "      <th>Total_Stops</th>\n",
       "      <th>Additional_Info</th>\n",
       "      <th>...</th>\n",
       "      <th>Date</th>\n",
       "      <th>Month</th>\n",
       "      <th>Year</th>\n",
       "      <th>Arrival_Hour</th>\n",
       "      <th>Arrival_Minute</th>\n",
       "      <th>Dep_Hour</th>\n",
       "      <th>Dep_Minute</th>\n",
       "      <th>Duration_hour</th>\n",
       "      <th>Duration_minute</th>\n",
       "      <th>src-des</th>\n",
       "    </tr>\n",
       "  </thead>\n",
       "  <tbody>\n",
       "    <tr>\n",
       "      <th>0</th>\n",
       "      <td>IndiGo</td>\n",
       "      <td>2019-03-24</td>\n",
       "      <td>Banglore</td>\n",
       "      <td>New Delhi</td>\n",
       "      <td>BLR → DEL</td>\n",
       "      <td>22:20</td>\n",
       "      <td>01:10</td>\n",
       "      <td>170</td>\n",
       "      <td>0</td>\n",
       "      <td>No info</td>\n",
       "      <td>...</td>\n",
       "      <td>24</td>\n",
       "      <td>3</td>\n",
       "      <td>2019</td>\n",
       "      <td>1</td>\n",
       "      <td>10</td>\n",
       "      <td>22</td>\n",
       "      <td>20</td>\n",
       "      <td>2</td>\n",
       "      <td>50</td>\n",
       "      <td>Banglore-New Delhi</td>\n",
       "    </tr>\n",
       "    <tr>\n",
       "      <th>1</th>\n",
       "      <td>Air India</td>\n",
       "      <td>2019-05-01</td>\n",
       "      <td>Kolkata</td>\n",
       "      <td>Banglore</td>\n",
       "      <td>CCU → IXR → BBI → BLR</td>\n",
       "      <td>05:50</td>\n",
       "      <td>13:15</td>\n",
       "      <td>445</td>\n",
       "      <td>2</td>\n",
       "      <td>No info</td>\n",
       "      <td>...</td>\n",
       "      <td>1</td>\n",
       "      <td>5</td>\n",
       "      <td>2019</td>\n",
       "      <td>13</td>\n",
       "      <td>15</td>\n",
       "      <td>5</td>\n",
       "      <td>50</td>\n",
       "      <td>7</td>\n",
       "      <td>25</td>\n",
       "      <td>Kolkata-Banglore</td>\n",
       "    </tr>\n",
       "    <tr>\n",
       "      <th>2</th>\n",
       "      <td>Jet Airways</td>\n",
       "      <td>2019-06-09</td>\n",
       "      <td>Delhi</td>\n",
       "      <td>Cochin</td>\n",
       "      <td>DEL → LKO → BOM → COK</td>\n",
       "      <td>09:25</td>\n",
       "      <td>04:25</td>\n",
       "      <td>1140</td>\n",
       "      <td>2</td>\n",
       "      <td>No info</td>\n",
       "      <td>...</td>\n",
       "      <td>9</td>\n",
       "      <td>6</td>\n",
       "      <td>2019</td>\n",
       "      <td>4</td>\n",
       "      <td>25</td>\n",
       "      <td>9</td>\n",
       "      <td>25</td>\n",
       "      <td>19</td>\n",
       "      <td>0</td>\n",
       "      <td>Delhi-Cochin</td>\n",
       "    </tr>\n",
       "    <tr>\n",
       "      <th>3</th>\n",
       "      <td>IndiGo</td>\n",
       "      <td>2019-05-12</td>\n",
       "      <td>Kolkata</td>\n",
       "      <td>Banglore</td>\n",
       "      <td>CCU → NAG → BLR</td>\n",
       "      <td>18:05</td>\n",
       "      <td>23:30</td>\n",
       "      <td>325</td>\n",
       "      <td>1</td>\n",
       "      <td>No info</td>\n",
       "      <td>...</td>\n",
       "      <td>12</td>\n",
       "      <td>5</td>\n",
       "      <td>2019</td>\n",
       "      <td>23</td>\n",
       "      <td>30</td>\n",
       "      <td>18</td>\n",
       "      <td>5</td>\n",
       "      <td>5</td>\n",
       "      <td>25</td>\n",
       "      <td>Kolkata-Banglore</td>\n",
       "    </tr>\n",
       "    <tr>\n",
       "      <th>4</th>\n",
       "      <td>IndiGo</td>\n",
       "      <td>2019-03-01</td>\n",
       "      <td>Banglore</td>\n",
       "      <td>New Delhi</td>\n",
       "      <td>BLR → NAG → DEL</td>\n",
       "      <td>16:50</td>\n",
       "      <td>21:35</td>\n",
       "      <td>285</td>\n",
       "      <td>1</td>\n",
       "      <td>No info</td>\n",
       "      <td>...</td>\n",
       "      <td>1</td>\n",
       "      <td>3</td>\n",
       "      <td>2019</td>\n",
       "      <td>21</td>\n",
       "      <td>35</td>\n",
       "      <td>16</td>\n",
       "      <td>50</td>\n",
       "      <td>4</td>\n",
       "      <td>45</td>\n",
       "      <td>Banglore-New Delhi</td>\n",
       "    </tr>\n",
       "  </tbody>\n",
       "</table>\n",
       "<p>5 rows × 21 columns</p>\n",
       "</div>"
      ],
      "text/plain": [
       "       Airline Date_of_Journey    Source Destination                  Route  \\\n",
       "0       IndiGo      2019-03-24  Banglore   New Delhi              BLR → DEL   \n",
       "1    Air India      2019-05-01   Kolkata    Banglore  CCU → IXR → BBI → BLR   \n",
       "2  Jet Airways      2019-06-09     Delhi      Cochin  DEL → LKO → BOM → COK   \n",
       "3       IndiGo      2019-05-12   Kolkata    Banglore        CCU → NAG → BLR   \n",
       "4       IndiGo      2019-03-01  Banglore   New Delhi        BLR → NAG → DEL   \n",
       "\n",
       "  Dep_Time Arrival_Time  Duration  Total_Stops Additional_Info  ...  Date  \\\n",
       "0    22:20        01:10       170            0         No info  ...    24   \n",
       "1    05:50        13:15       445            2         No info  ...     1   \n",
       "2    09:25        04:25      1140            2         No info  ...     9   \n",
       "3    18:05        23:30       325            1         No info  ...    12   \n",
       "4    16:50        21:35       285            1         No info  ...     1   \n",
       "\n",
       "   Month  Year  Arrival_Hour  Arrival_Minute  Dep_Hour  Dep_Minute  \\\n",
       "0      3  2019             1              10        22          20   \n",
       "1      5  2019            13              15         5          50   \n",
       "2      6  2019             4              25         9          25   \n",
       "3      5  2019            23              30        18           5   \n",
       "4      3  2019            21              35        16          50   \n",
       "\n",
       "   Duration_hour  Duration_minute             src-des  \n",
       "0              2               50  Banglore-New Delhi  \n",
       "1              7               25    Kolkata-Banglore  \n",
       "2             19                0        Delhi-Cochin  \n",
       "3              5               25    Kolkata-Banglore  \n",
       "4              4               45  Banglore-New Delhi  \n",
       "\n",
       "[5 rows x 21 columns]"
      ]
     },
     "execution_count": 67,
     "metadata": {},
     "output_type": "execute_result"
    }
   ],
   "source": [
    "df.head()"
   ]
  },
  {
   "cell_type": "code",
   "execution_count": 70,
   "id": "c1647dc5",
   "metadata": {},
   "outputs": [
    {
     "data": {
      "text/plain": [
       "<AxesSubplot:xlabel='src-des', ylabel='count'>"
      ]
     },
     "execution_count": 70,
     "metadata": {},
     "output_type": "execute_result"
    },
    {
     "data": {
      "image/png": "[encoded data removed]",
      "text/plain": [
       "<Figure size 1440x432 with 1 Axes>"
      ]
     },
     "metadata": {
      "needs_background": "light"
     },
     "output_type": "display_data"
    }
   ],
   "source": [
    "plt.figure(figsize=(20,6))\n",
    "sns.countplot(x='src-des',data=df,hue='Month')"
   ]
  },
  {
   "cell_type": "code",
   "execution_count": 79,
   "id": "42805af5",
   "metadata": {},
   "outputs": [
    {
     "data": {
      "text/plain": [
       "<AxesSubplot:xlabel='src-des', ylabel='Price'>"
      ]
     },
     "execution_count": 79,
     "metadata": {},
     "output_type": "execute_result"
    },
    {
     "data": {
      "image/png": "[encoded data removed]",
      "text/plain": [
       "<Figure size 1440x432 with 1 Axes>"
      ]
     },
     "metadata": {
      "needs_background": "light"
     },
     "output_type": "display_data"
    }
   ],
   "source": [
    "plt.figure(figsize=(20,6))\n",
    "sns.boxplot(x='src-des',y='Price',data=df,hue='Month')"
   ]
  },
  {
   "cell_type": "markdown",
   "id": "6e2098ef",
   "metadata": {},
   "source": [
    "#### Observations\n",
    "Delhi to Cochin is the most popular route during the month of June. <br>\n",
    "Kolkata to Bangalore is the second most popular route during the month of May <br>\n",
    "Bangalore to New Delhi and Delhi to Cochin are the costliest in March."
   ]
  },
  {
   "cell_type": "code",
   "execution_count": 72,
   "id": "ab98724f",
   "metadata": {},
   "outputs": [
    {
     "data": {
      "text/plain": [
       "<AxesSubplot:xlabel='Total_Stops', ylabel='Price'>"
      ]
     },
     "execution_count": 72,
     "metadata": {},
     "output_type": "execute_result"
    },
    {
     "data": {
      "image/png": "[encoded data removed]",
      "text/plain": [
       "<Figure size 864x432 with 1 Axes>"
      ]
     },
     "metadata": {
      "needs_background": "light"
     },
     "output_type": "display_data"
    }
   ],
   "source": [
    "plt.figure(figsize=(12,6))\n",
    "sns.boxplot(x='Total_Stops',y='Price',data=df)"
   ]
  },
  {
   "cell_type": "markdown",
   "id": "461abc41",
   "metadata": {},
   "source": [
    "#### Observations\n",
    "Price increase linearly with the number of stops <br>\n",
    "Label Encoding would be appropriate here"
   ]
  },
  {
   "cell_type": "code",
   "execution_count": 74,
   "id": "effca16e",
   "metadata": {},
   "outputs": [
    {
     "data": {
      "text/plain": [
       "<AxesSubplot:xlabel='Additional_Info', ylabel='Price'>"
      ]
     },
     "execution_count": 74,
     "metadata": {},
     "output_type": "execute_result"
    },
    {
     "data": {
      "image/png": "[encoded data removed]",
      "text/plain": [
       "<Figure size 1440x432 with 1 Axes>"
      ]
     },
     "metadata": {
      "needs_background": "light"
     },
     "output_type": "display_data"
    }
   ],
   "source": [
    "plt.figure(figsize=(20,6))\n",
    "sns.boxplot(x='Additional_Info',y='Price',data=df)"
   ]
  },
  {
   "cell_type": "code",
   "execution_count": 75,
   "id": "cb1550d3",
   "metadata": {},
   "outputs": [
    {
     "data": {
      "text/plain": [
       "No info                         10493\n",
       "In-flight meal not included      2426\n",
       "No check-in baggage included      396\n",
       "1 Long layover                     20\n",
       "Change airports                     8\n",
       "Business class                      5\n",
       "No Info                             3\n",
       "2 Long layover                      1\n",
       "Red-eye flight                      1\n",
       "1 Short layover                     1\n",
       "Name: Additional_Info, dtype: int64"
      ]
     },
     "execution_count": 75,
     "metadata": {},
     "output_type": "execute_result"
    }
   ],
   "source": [
    "df['Additional_Info'].value_counts()"
   ]
  },
  {
   "cell_type": "markdown",
   "id": "036bb0dc",
   "metadata": {},
   "source": [
    "#### Observations\n",
    "Flights where check in baggage price are not included has the lowest Fare.\n",
    "So, Passengers not carrying any check-in luggage, can opt for these flights"
   ]
  },
  {
   "cell_type": "code",
   "execution_count": 76,
   "id": "403f0ec9",
   "metadata": {},
   "outputs": [
    {
     "data": {
      "text/plain": [
       "No Info                         10496\n",
       "In-flight meal not included      2426\n",
       "No check-in baggage included      396\n",
       "1 Long layover                     20\n",
       "Change airports                     8\n",
       "Business class                      5\n",
       "2 Long layover                      1\n",
       "Red-eye flight                      1\n",
       "1 Short layover                     1\n",
       "Name: Additional_Info, dtype: int64"
      ]
     },
     "execution_count": 76,
     "metadata": {},
     "output_type": "execute_result"
    }
   ],
   "source": [
    "## No info is present twice with two different spelling, need to correct.\n",
    "df['Additional_Info'].replace('No info','No Info',inplace=True)\n",
    "df['Additional_Info'].value_counts()"
   ]
  },
  {
   "cell_type": "code",
   "execution_count": 80,
   "id": "8874870d",
   "metadata": {},
   "outputs": [],
   "source": [
    "## One hot encoding for some of the categorical features\n",
    "df=pd.get_dummies(df,columns=['Airline','Source','Destination','Additional_Info'],drop_first=True)"
   ]
  },
  {
   "cell_type": "code",
   "execution_count": 81,
   "id": "8bdabee6",
   "metadata": {},
   "outputs": [],
   "source": [
    "pd.set_option('display.max_columns', None)"
   ]
  },
  {
   "cell_type": "code",
   "execution_count": 82,
   "id": "3e568d1e",
   "metadata": {},
   "outputs": [],
   "source": [
    "df.drop(columns=['Date_of_Journey','Route','Dep_Time','Arrival_Time','Duration_hour','Duration_minute','src-des'], inplace=True)"
   ]
  },
  {
   "cell_type": "code",
   "execution_count": 83,
   "id": "a2de641f",
   "metadata": {},
   "outputs": [
    {
     "data": {
      "text/html": [
       "<div>\n",
       "<style scoped>\n",
       "    .dataframe tbody tr th:only-of-type {\n",
       "        vertical-align: middle;\n",
       "    }\n",
       "\n",
       "    .dataframe tbody tr th {\n",
       "        vertical-align: top;\n",
       "    }\n",
       "\n",
       "    .dataframe thead th {\n",
       "        text-align: right;\n",
       "    }\n",
       "</style>\n",
       "<table border=\"1\" class=\"dataframe\">\n",
       "  <thead>\n",
       "    <tr style=\"text-align: right;\">\n",
       "      <th></th>\n",
       "      <th>Duration</th>\n",
       "      <th>Total_Stops</th>\n",
       "      <th>Price</th>\n",
       "      <th>Date</th>\n",
       "      <th>Month</th>\n",
       "      <th>Year</th>\n",
       "      <th>Arrival_Hour</th>\n",
       "      <th>Arrival_Minute</th>\n",
       "      <th>Dep_Hour</th>\n",
       "      <th>Dep_Minute</th>\n",
       "      <th>Airline_Air India</th>\n",
       "      <th>Airline_GoAir</th>\n",
       "      <th>Airline_IndiGo</th>\n",
       "      <th>Airline_Jet Airways</th>\n",
       "      <th>Airline_Jet Airways Business</th>\n",
       "      <th>Airline_Multiple carriers</th>\n",
       "      <th>Airline_Multiple carriers Premium economy</th>\n",
       "      <th>Airline_SpiceJet</th>\n",
       "      <th>Airline_Trujet</th>\n",
       "      <th>Airline_Vistara</th>\n",
       "      <th>Airline_Vistara Premium economy</th>\n",
       "      <th>Source_Chennai</th>\n",
       "      <th>Source_Delhi</th>\n",
       "      <th>Source_Kolkata</th>\n",
       "      <th>Source_Mumbai</th>\n",
       "      <th>Destination_Cochin</th>\n",
       "      <th>Destination_Delhi</th>\n",
       "      <th>Destination_Hyderabad</th>\n",
       "      <th>Destination_Kolkata</th>\n",
       "      <th>Destination_New Delhi</th>\n",
       "      <th>Additional_Info_1 Short layover</th>\n",
       "      <th>Additional_Info_2 Long layover</th>\n",
       "      <th>Additional_Info_Business class</th>\n",
       "      <th>Additional_Info_Change airports</th>\n",
       "      <th>Additional_Info_In-flight meal not included</th>\n",
       "      <th>Additional_Info_No Info</th>\n",
       "      <th>Additional_Info_No check-in baggage included</th>\n",
       "      <th>Additional_Info_Red-eye flight</th>\n",
       "    </tr>\n",
       "  </thead>\n",
       "  <tbody>\n",
       "    <tr>\n",
       "      <th>0</th>\n",
       "      <td>170</td>\n",
       "      <td>0</td>\n",
       "      <td>3897.0</td>\n",
       "      <td>24</td>\n",
       "      <td>3</td>\n",
       "      <td>2019</td>\n",
       "      <td>1</td>\n",
       "      <td>10</td>\n",
       "      <td>22</td>\n",
       "      <td>20</td>\n",
       "      <td>0</td>\n",
       "      <td>0</td>\n",
       "      <td>1</td>\n",
       "      <td>0</td>\n",
       "      <td>0</td>\n",
       "      <td>0</td>\n",
       "      <td>0</td>\n",
       "      <td>0</td>\n",
       "      <td>0</td>\n",
       "      <td>0</td>\n",
       "      <td>0</td>\n",
       "      <td>0</td>\n",
       "      <td>0</td>\n",
       "      <td>0</td>\n",
       "      <td>0</td>\n",
       "      <td>0</td>\n",
       "      <td>0</td>\n",
       "      <td>0</td>\n",
       "      <td>0</td>\n",
       "      <td>1</td>\n",
       "      <td>0</td>\n",
       "      <td>0</td>\n",
       "      <td>0</td>\n",
       "      <td>0</td>\n",
       "      <td>0</td>\n",
       "      <td>1</td>\n",
       "      <td>0</td>\n",
       "      <td>0</td>\n",
       "    </tr>\n",
       "    <tr>\n",
       "      <th>1</th>\n",
       "      <td>445</td>\n",
       "      <td>2</td>\n",
       "      <td>7662.0</td>\n",
       "      <td>1</td>\n",
       "      <td>5</td>\n",
       "      <td>2019</td>\n",
       "      <td>13</td>\n",
       "      <td>15</td>\n",
       "      <td>5</td>\n",
       "      <td>50</td>\n",
       "      <td>1</td>\n",
       "      <td>0</td>\n",
       "      <td>0</td>\n",
       "      <td>0</td>\n",
       "      <td>0</td>\n",
       "      <td>0</td>\n",
       "      <td>0</td>\n",
       "      <td>0</td>\n",
       "      <td>0</td>\n",
       "      <td>0</td>\n",
       "      <td>0</td>\n",
       "      <td>0</td>\n",
       "      <td>0</td>\n",
       "      <td>1</td>\n",
       "      <td>0</td>\n",
       "      <td>0</td>\n",
       "      <td>0</td>\n",
       "      <td>0</td>\n",
       "      <td>0</td>\n",
       "      <td>0</td>\n",
       "      <td>0</td>\n",
       "      <td>0</td>\n",
       "      <td>0</td>\n",
       "      <td>0</td>\n",
       "      <td>0</td>\n",
       "      <td>1</td>\n",
       "      <td>0</td>\n",
       "      <td>0</td>\n",
       "    </tr>\n",
       "  </tbody>\n",
       "</table>\n",
       "</div>"
      ],
      "text/plain": [
       "   Duration  Total_Stops   Price  Date  Month  Year  Arrival_Hour  \\\n",
       "0       170            0  3897.0    24      3  2019             1   \n",
       "1       445            2  7662.0     1      5  2019            13   \n",
       "\n",
       "   Arrival_Minute  Dep_Hour  Dep_Minute  Airline_Air India  Airline_GoAir  \\\n",
       "0              10        22          20                  0              0   \n",
       "1              15         5          50                  1              0   \n",
       "\n",
       "   Airline_IndiGo  Airline_Jet Airways  Airline_Jet Airways Business  \\\n",
       "0               1                    0                             0   \n",
       "1               0                    0                             0   \n",
       "\n",
       "   Airline_Multiple carriers  Airline_Multiple carriers Premium economy  \\\n",
       "0                          0                                          0   \n",
       "1                          0                                          0   \n",
       "\n",
       "   Airline_SpiceJet  Airline_Trujet  Airline_Vistara  \\\n",
       "0                 0               0                0   \n",
       "1                 0               0                0   \n",
       "\n",
       "   Airline_Vistara Premium economy  Source_Chennai  Source_Delhi  \\\n",
       "0                                0               0             0   \n",
       "1                                0               0             0   \n",
       "\n",
       "   Source_Kolkata  Source_Mumbai  Destination_Cochin  Destination_Delhi  \\\n",
       "0               0              0                   0                  0   \n",
       "1               1              0                   0                  0   \n",
       "\n",
       "   Destination_Hyderabad  Destination_Kolkata  Destination_New Delhi  \\\n",
       "0                      0                    0                      1   \n",
       "1                      0                    0                      0   \n",
       "\n",
       "   Additional_Info_1 Short layover  Additional_Info_2 Long layover  \\\n",
       "0                                0                               0   \n",
       "1                                0                               0   \n",
       "\n",
       "   Additional_Info_Business class  Additional_Info_Change airports  \\\n",
       "0                               0                                0   \n",
       "1                               0                                0   \n",
       "\n",
       "   Additional_Info_In-flight meal not included  Additional_Info_No Info  \\\n",
       "0                                            0                        1   \n",
       "1                                            0                        1   \n",
       "\n",
       "   Additional_Info_No check-in baggage included  \\\n",
       "0                                             0   \n",
       "1                                             0   \n",
       "\n",
       "   Additional_Info_Red-eye flight  \n",
       "0                               0  \n",
       "1                               0  "
      ]
     },
     "execution_count": 83,
     "metadata": {},
     "output_type": "execute_result"
    }
   ],
   "source": [
    "df.head(2)"
   ]
  },
  {
   "cell_type": "code",
   "execution_count": 86,
   "id": "ec3824f3",
   "metadata": {},
   "outputs": [
    {
     "data": {
      "text/plain": [
       "<seaborn.axisgrid.FacetGrid at 0x1abbfb69a90>"
      ]
     },
     "execution_count": 86,
     "metadata": {},
     "output_type": "execute_result"
    },
    {
     "data": {
      "image/png": "[encoded data removed]",
      "text/plain": [
       "<Figure size 360x360 with 1 Axes>"
      ]
     },
     "metadata": {
      "needs_background": "light"
     },
     "output_type": "display_data"
    }
   ],
   "source": [
    "sns.lmplot(x='Duration',y='Price',data=df)"
   ]
  },
  {
   "cell_type": "code",
   "execution_count": 109,
   "id": "a25a2787",
   "metadata": {},
   "outputs": [
    {
     "data": {
      "text/plain": [
       "<AxesSubplot:>"
      ]
     },
     "execution_count": 109,
     "metadata": {},
     "output_type": "execute_result"
    },
    {
     "data": {
      "image/png": "[encoded data removed]",
      "text/plain": [
       "<Figure size 1440x720 with 2 Axes>"
      ]
     },
     "metadata": {
      "needs_background": "light"
     },
     "output_type": "display_data"
    }
   ],
   "source": [
    "plt.figure(figsize=(20,10))\n",
    "sns.heatmap(df.iloc[:,:8].corr(),annot=True,cmap='RdYlGn')"
   ]
  },
  {
   "cell_type": "code",
   "execution_count": 88,
   "id": "2dcbc56d",
   "metadata": {},
   "outputs": [],
   "source": [
    "from sklearn.ensemble import RandomForestRegressor\n",
    "\n",
    "rfr = RandomForestRegressor()"
   ]
  },
  {
   "cell_type": "code",
   "execution_count": 89,
   "id": "57fcf819",
   "metadata": {},
   "outputs": [],
   "source": [
    "train_df = df[~df['Price'].isna()]\n",
    "test_df = df[df['Price'].isna()]"
   ]
  },
  {
   "cell_type": "code",
   "execution_count": 90,
   "id": "e6efefe3",
   "metadata": {},
   "outputs": [
    {
     "name": "stdout",
     "output_type": "stream",
     "text": [
      "(10683, 38)\n",
      "(2671, 38)\n"
     ]
    }
   ],
   "source": [
    "print(train_df.shape)\n",
    "print(test_df.shape)"
   ]
  },
  {
   "cell_type": "code",
   "execution_count": 92,
   "id": "7ad3934b",
   "metadata": {},
   "outputs": [
    {
     "name": "stderr",
     "output_type": "stream",
     "text": [
      "C:\\Users\\user\\anaconda3\\lib\\site-packages\\pandas\\core\\frame.py:4308: SettingWithCopyWarning: \n",
      "A value is trying to be set on a copy of a slice from a DataFrame\n",
      "\n",
      "See the caveats in the documentation: https://pandas.pydata.org/pandas-docs/stable/user_guide/indexing.html#returning-a-view-versus-a-copy\n",
      "  return super().drop(\n"
     ]
    }
   ],
   "source": [
    "test_df.drop(columns='Price',inplace=True)"
   ]
  },
  {
   "cell_type": "code",
   "execution_count": 93,
   "id": "4b7c1d4f",
   "metadata": {},
   "outputs": [
    {
     "data": {
      "text/html": [
       "<div>\n",
       "<style scoped>\n",
       "    .dataframe tbody tr th:only-of-type {\n",
       "        vertical-align: middle;\n",
       "    }\n",
       "\n",
       "    .dataframe tbody tr th {\n",
       "        vertical-align: top;\n",
       "    }\n",
       "\n",
       "    .dataframe thead th {\n",
       "        text-align: right;\n",
       "    }\n",
       "</style>\n",
       "<table border=\"1\" class=\"dataframe\">\n",
       "  <thead>\n",
       "    <tr style=\"text-align: right;\">\n",
       "      <th></th>\n",
       "      <th>Duration</th>\n",
       "      <th>Total_Stops</th>\n",
       "      <th>Date</th>\n",
       "      <th>Month</th>\n",
       "      <th>Year</th>\n",
       "      <th>Arrival_Hour</th>\n",
       "      <th>Arrival_Minute</th>\n",
       "      <th>Dep_Hour</th>\n",
       "      <th>Dep_Minute</th>\n",
       "      <th>Airline_Air India</th>\n",
       "      <th>Airline_GoAir</th>\n",
       "      <th>Airline_IndiGo</th>\n",
       "      <th>Airline_Jet Airways</th>\n",
       "      <th>Airline_Jet Airways Business</th>\n",
       "      <th>Airline_Multiple carriers</th>\n",
       "      <th>Airline_Multiple carriers Premium economy</th>\n",
       "      <th>Airline_SpiceJet</th>\n",
       "      <th>Airline_Trujet</th>\n",
       "      <th>Airline_Vistara</th>\n",
       "      <th>Airline_Vistara Premium economy</th>\n",
       "      <th>Source_Chennai</th>\n",
       "      <th>Source_Delhi</th>\n",
       "      <th>Source_Kolkata</th>\n",
       "      <th>Source_Mumbai</th>\n",
       "      <th>Destination_Cochin</th>\n",
       "      <th>Destination_Delhi</th>\n",
       "      <th>Destination_Hyderabad</th>\n",
       "      <th>Destination_Kolkata</th>\n",
       "      <th>Destination_New Delhi</th>\n",
       "      <th>Additional_Info_1 Short layover</th>\n",
       "      <th>Additional_Info_2 Long layover</th>\n",
       "      <th>Additional_Info_Business class</th>\n",
       "      <th>Additional_Info_Change airports</th>\n",
       "      <th>Additional_Info_In-flight meal not included</th>\n",
       "      <th>Additional_Info_No Info</th>\n",
       "      <th>Additional_Info_No check-in baggage included</th>\n",
       "      <th>Additional_Info_Red-eye flight</th>\n",
       "    </tr>\n",
       "  </thead>\n",
       "  <tbody>\n",
       "    <tr>\n",
       "      <th>0</th>\n",
       "      <td>655</td>\n",
       "      <td>1</td>\n",
       "      <td>6</td>\n",
       "      <td>6</td>\n",
       "      <td>2019</td>\n",
       "      <td>4</td>\n",
       "      <td>25</td>\n",
       "      <td>17</td>\n",
       "      <td>30</td>\n",
       "      <td>0</td>\n",
       "      <td>0</td>\n",
       "      <td>0</td>\n",
       "      <td>1</td>\n",
       "      <td>0</td>\n",
       "      <td>0</td>\n",
       "      <td>0</td>\n",
       "      <td>0</td>\n",
       "      <td>0</td>\n",
       "      <td>0</td>\n",
       "      <td>0</td>\n",
       "      <td>0</td>\n",
       "      <td>1</td>\n",
       "      <td>0</td>\n",
       "      <td>0</td>\n",
       "      <td>1</td>\n",
       "      <td>0</td>\n",
       "      <td>0</td>\n",
       "      <td>0</td>\n",
       "      <td>0</td>\n",
       "      <td>0</td>\n",
       "      <td>0</td>\n",
       "      <td>0</td>\n",
       "      <td>0</td>\n",
       "      <td>0</td>\n",
       "      <td>1</td>\n",
       "      <td>0</td>\n",
       "      <td>0</td>\n",
       "    </tr>\n",
       "    <tr>\n",
       "      <th>1</th>\n",
       "      <td>240</td>\n",
       "      <td>1</td>\n",
       "      <td>12</td>\n",
       "      <td>5</td>\n",
       "      <td>2019</td>\n",
       "      <td>10</td>\n",
       "      <td>20</td>\n",
       "      <td>6</td>\n",
       "      <td>20</td>\n",
       "      <td>0</td>\n",
       "      <td>0</td>\n",
       "      <td>1</td>\n",
       "      <td>0</td>\n",
       "      <td>0</td>\n",
       "      <td>0</td>\n",
       "      <td>0</td>\n",
       "      <td>0</td>\n",
       "      <td>0</td>\n",
       "      <td>0</td>\n",
       "      <td>0</td>\n",
       "      <td>0</td>\n",
       "      <td>0</td>\n",
       "      <td>1</td>\n",
       "      <td>0</td>\n",
       "      <td>0</td>\n",
       "      <td>0</td>\n",
       "      <td>0</td>\n",
       "      <td>0</td>\n",
       "      <td>0</td>\n",
       "      <td>0</td>\n",
       "      <td>0</td>\n",
       "      <td>0</td>\n",
       "      <td>0</td>\n",
       "      <td>0</td>\n",
       "      <td>1</td>\n",
       "      <td>0</td>\n",
       "      <td>0</td>\n",
       "    </tr>\n",
       "    <tr>\n",
       "      <th>2</th>\n",
       "      <td>1425</td>\n",
       "      <td>1</td>\n",
       "      <td>21</td>\n",
       "      <td>5</td>\n",
       "      <td>2019</td>\n",
       "      <td>19</td>\n",
       "      <td>0</td>\n",
       "      <td>19</td>\n",
       "      <td>15</td>\n",
       "      <td>0</td>\n",
       "      <td>0</td>\n",
       "      <td>0</td>\n",
       "      <td>1</td>\n",
       "      <td>0</td>\n",
       "      <td>0</td>\n",
       "      <td>0</td>\n",
       "      <td>0</td>\n",
       "      <td>0</td>\n",
       "      <td>0</td>\n",
       "      <td>0</td>\n",
       "      <td>0</td>\n",
       "      <td>1</td>\n",
       "      <td>0</td>\n",
       "      <td>0</td>\n",
       "      <td>1</td>\n",
       "      <td>0</td>\n",
       "      <td>0</td>\n",
       "      <td>0</td>\n",
       "      <td>0</td>\n",
       "      <td>0</td>\n",
       "      <td>0</td>\n",
       "      <td>0</td>\n",
       "      <td>0</td>\n",
       "      <td>1</td>\n",
       "      <td>0</td>\n",
       "      <td>0</td>\n",
       "      <td>0</td>\n",
       "    </tr>\n",
       "    <tr>\n",
       "      <th>3</th>\n",
       "      <td>780</td>\n",
       "      <td>1</td>\n",
       "      <td>21</td>\n",
       "      <td>5</td>\n",
       "      <td>2019</td>\n",
       "      <td>21</td>\n",
       "      <td>0</td>\n",
       "      <td>8</td>\n",
       "      <td>0</td>\n",
       "      <td>0</td>\n",
       "      <td>0</td>\n",
       "      <td>0</td>\n",
       "      <td>0</td>\n",
       "      <td>0</td>\n",
       "      <td>1</td>\n",
       "      <td>0</td>\n",
       "      <td>0</td>\n",
       "      <td>0</td>\n",
       "      <td>0</td>\n",
       "      <td>0</td>\n",
       "      <td>0</td>\n",
       "      <td>1</td>\n",
       "      <td>0</td>\n",
       "      <td>0</td>\n",
       "      <td>1</td>\n",
       "      <td>0</td>\n",
       "      <td>0</td>\n",
       "      <td>0</td>\n",
       "      <td>0</td>\n",
       "      <td>0</td>\n",
       "      <td>0</td>\n",
       "      <td>0</td>\n",
       "      <td>0</td>\n",
       "      <td>0</td>\n",
       "      <td>1</td>\n",
       "      <td>0</td>\n",
       "      <td>0</td>\n",
       "    </tr>\n",
       "    <tr>\n",
       "      <th>4</th>\n",
       "      <td>170</td>\n",
       "      <td>0</td>\n",
       "      <td>24</td>\n",
       "      <td>6</td>\n",
       "      <td>2019</td>\n",
       "      <td>2</td>\n",
       "      <td>45</td>\n",
       "      <td>23</td>\n",
       "      <td>55</td>\n",
       "      <td>0</td>\n",
       "      <td>0</td>\n",
       "      <td>0</td>\n",
       "      <td>0</td>\n",
       "      <td>0</td>\n",
       "      <td>0</td>\n",
       "      <td>0</td>\n",
       "      <td>0</td>\n",
       "      <td>0</td>\n",
       "      <td>0</td>\n",
       "      <td>0</td>\n",
       "      <td>0</td>\n",
       "      <td>0</td>\n",
       "      <td>0</td>\n",
       "      <td>0</td>\n",
       "      <td>0</td>\n",
       "      <td>1</td>\n",
       "      <td>0</td>\n",
       "      <td>0</td>\n",
       "      <td>0</td>\n",
       "      <td>0</td>\n",
       "      <td>0</td>\n",
       "      <td>0</td>\n",
       "      <td>0</td>\n",
       "      <td>0</td>\n",
       "      <td>1</td>\n",
       "      <td>0</td>\n",
       "      <td>0</td>\n",
       "    </tr>\n",
       "  </tbody>\n",
       "</table>\n",
       "</div>"
      ],
      "text/plain": [
       "   Duration  Total_Stops  Date  Month  Year  Arrival_Hour  Arrival_Minute  \\\n",
       "0       655            1     6      6  2019             4              25   \n",
       "1       240            1    12      5  2019            10              20   \n",
       "2      1425            1    21      5  2019            19               0   \n",
       "3       780            1    21      5  2019            21               0   \n",
       "4       170            0    24      6  2019             2              45   \n",
       "\n",
       "   Dep_Hour  Dep_Minute  Airline_Air India  Airline_GoAir  Airline_IndiGo  \\\n",
       "0        17          30                  0              0               0   \n",
       "1         6          20                  0              0               1   \n",
       "2        19          15                  0              0               0   \n",
       "3         8           0                  0              0               0   \n",
       "4        23          55                  0              0               0   \n",
       "\n",
       "   Airline_Jet Airways  Airline_Jet Airways Business  \\\n",
       "0                    1                             0   \n",
       "1                    0                             0   \n",
       "2                    1                             0   \n",
       "3                    0                             0   \n",
       "4                    0                             0   \n",
       "\n",
       "   Airline_Multiple carriers  Airline_Multiple carriers Premium economy  \\\n",
       "0                          0                                          0   \n",
       "1                          0                                          0   \n",
       "2                          0                                          0   \n",
       "3                          1                                          0   \n",
       "4                          0                                          0   \n",
       "\n",
       "   Airline_SpiceJet  Airline_Trujet  Airline_Vistara  \\\n",
       "0                 0               0                0   \n",
       "1                 0               0                0   \n",
       "2                 0               0                0   \n",
       "3                 0               0                0   \n",
       "4                 0               0                0   \n",
       "\n",
       "   Airline_Vistara Premium economy  Source_Chennai  Source_Delhi  \\\n",
       "0                                0               0             1   \n",
       "1                                0               0             0   \n",
       "2                                0               0             1   \n",
       "3                                0               0             1   \n",
       "4                                0               0             0   \n",
       "\n",
       "   Source_Kolkata  Source_Mumbai  Destination_Cochin  Destination_Delhi  \\\n",
       "0               0              0                   1                  0   \n",
       "1               1              0                   0                  0   \n",
       "2               0              0                   1                  0   \n",
       "3               0              0                   1                  0   \n",
       "4               0              0                   0                  1   \n",
       "\n",
       "   Destination_Hyderabad  Destination_Kolkata  Destination_New Delhi  \\\n",
       "0                      0                    0                      0   \n",
       "1                      0                    0                      0   \n",
       "2                      0                    0                      0   \n",
       "3                      0                    0                      0   \n",
       "4                      0                    0                      0   \n",
       "\n",
       "   Additional_Info_1 Short layover  Additional_Info_2 Long layover  \\\n",
       "0                                0                               0   \n",
       "1                                0                               0   \n",
       "2                                0                               0   \n",
       "3                                0                               0   \n",
       "4                                0                               0   \n",
       "\n",
       "   Additional_Info_Business class  Additional_Info_Change airports  \\\n",
       "0                               0                                0   \n",
       "1                               0                                0   \n",
       "2                               0                                0   \n",
       "3                               0                                0   \n",
       "4                               0                                0   \n",
       "\n",
       "   Additional_Info_In-flight meal not included  Additional_Info_No Info  \\\n",
       "0                                            0                        1   \n",
       "1                                            0                        1   \n",
       "2                                            1                        0   \n",
       "3                                            0                        1   \n",
       "4                                            0                        1   \n",
       "\n",
       "   Additional_Info_No check-in baggage included  \\\n",
       "0                                             0   \n",
       "1                                             0   \n",
       "2                                             0   \n",
       "3                                             0   \n",
       "4                                             0   \n",
       "\n",
       "   Additional_Info_Red-eye flight  \n",
       "0                               0  \n",
       "1                               0  \n",
       "2                               0  \n",
       "3                               0  \n",
       "4                               0  "
      ]
     },
     "execution_count": 93,
     "metadata": {},
     "output_type": "execute_result"
    }
   ],
   "source": [
    "test_df.head()"
   ]
  },
  {
   "cell_type": "code",
   "execution_count": 99,
   "id": "f22f30f3",
   "metadata": {},
   "outputs": [],
   "source": [
    "from sklearn.model_selection import train_test_split"
   ]
  },
  {
   "cell_type": "code",
   "execution_count": 100,
   "id": "55328cc9",
   "metadata": {},
   "outputs": [],
   "source": [
    "X= train_df.drop(columns='Price')\n",
    "y= train_df['Price']\n",
    "X_train, X_test, y_train, y_test = train_test_split(X, y, test_size=0.3, random_state=42)"
   ]
  },
  {
   "cell_type": "code",
   "execution_count": 102,
   "id": "73266e87",
   "metadata": {},
   "outputs": [
    {
     "data": {
      "text/plain": [
       "RandomForestRegressor()"
      ]
     },
     "execution_count": 102,
     "metadata": {},
     "output_type": "execute_result"
    }
   ],
   "source": [
    "rfr.fit(X_train,y_train)"
   ]
  },
  {
   "cell_type": "code",
   "execution_count": 113,
   "id": "d6522422",
   "metadata": {},
   "outputs": [
    {
     "data": {
      "text/html": [
       "<div>\n",
       "<style scoped>\n",
       "    .dataframe tbody tr th:only-of-type {\n",
       "        vertical-align: middle;\n",
       "    }\n",
       "\n",
       "    .dataframe tbody tr th {\n",
       "        vertical-align: top;\n",
       "    }\n",
       "\n",
       "    .dataframe thead th {\n",
       "        text-align: right;\n",
       "    }\n",
       "</style>\n",
       "<table border=\"1\" class=\"dataframe\">\n",
       "  <thead>\n",
       "    <tr style=\"text-align: right;\">\n",
       "      <th></th>\n",
       "      <th>Duration</th>\n",
       "      <th>Total_Stops</th>\n",
       "      <th>Date</th>\n",
       "      <th>Month</th>\n",
       "      <th>Year</th>\n",
       "      <th>Arrival_Hour</th>\n",
       "      <th>Arrival_Minute</th>\n",
       "      <th>Dep_Hour</th>\n",
       "      <th>Dep_Minute</th>\n",
       "      <th>Airline_Air India</th>\n",
       "      <th>Airline_GoAir</th>\n",
       "      <th>Airline_IndiGo</th>\n",
       "      <th>Airline_Jet Airways</th>\n",
       "      <th>Airline_Jet Airways Business</th>\n",
       "      <th>Airline_Multiple carriers</th>\n",
       "      <th>Airline_Multiple carriers Premium economy</th>\n",
       "      <th>Airline_SpiceJet</th>\n",
       "      <th>Airline_Trujet</th>\n",
       "      <th>Airline_Vistara</th>\n",
       "      <th>Airline_Vistara Premium economy</th>\n",
       "      <th>Source_Chennai</th>\n",
       "      <th>Source_Delhi</th>\n",
       "      <th>Source_Kolkata</th>\n",
       "      <th>Source_Mumbai</th>\n",
       "      <th>Destination_Cochin</th>\n",
       "      <th>Destination_Delhi</th>\n",
       "      <th>Destination_Hyderabad</th>\n",
       "      <th>Destination_Kolkata</th>\n",
       "      <th>Destination_New Delhi</th>\n",
       "      <th>Additional_Info_1 Short layover</th>\n",
       "      <th>Additional_Info_2 Long layover</th>\n",
       "      <th>Additional_Info_Business class</th>\n",
       "      <th>Additional_Info_Change airports</th>\n",
       "      <th>Additional_Info_In-flight meal not included</th>\n",
       "      <th>Additional_Info_No Info</th>\n",
       "      <th>Additional_Info_No check-in baggage included</th>\n",
       "      <th>Additional_Info_Red-eye flight</th>\n",
       "    </tr>\n",
       "  </thead>\n",
       "  <tbody>\n",
       "    <tr>\n",
       "      <th>0</th>\n",
       "      <td>0.445225</td>\n",
       "      <td>0.029231</td>\n",
       "      <td>0.090794</td>\n",
       "      <td>0.046882</td>\n",
       "      <td>0.0</td>\n",
       "      <td>0.028225</td>\n",
       "      <td>0.019143</td>\n",
       "      <td>0.022654</td>\n",
       "      <td>0.021154</td>\n",
       "      <td>0.005</td>\n",
       "      <td>0.001247</td>\n",
       "      <td>0.006816</td>\n",
       "      <td>0.058748</td>\n",
       "      <td>0.069609</td>\n",
       "      <td>0.018736</td>\n",
       "      <td>0.000926</td>\n",
       "      <td>0.002623</td>\n",
       "      <td>0.000013</td>\n",
       "      <td>0.002256</td>\n",
       "      <td>0.000044</td>\n",
       "      <td>0.000473</td>\n",
       "      <td>0.003695</td>\n",
       "      <td>0.004588</td>\n",
       "      <td>0.002878</td>\n",
       "      <td>0.003564</td>\n",
       "      <td>0.000634</td>\n",
       "      <td>0.00279</td>\n",
       "      <td>0.000516</td>\n",
       "      <td>0.027981</td>\n",
       "      <td>0.000713</td>\n",
       "      <td>0.000799</td>\n",
       "      <td>0.000505</td>\n",
       "      <td>0.000676</td>\n",
       "      <td>0.076459</td>\n",
       "      <td>0.004371</td>\n",
       "      <td>0.00003</td>\n",
       "      <td>0.000004</td>\n",
       "    </tr>\n",
       "  </tbody>\n",
       "</table>\n",
       "</div>"
      ],
      "text/plain": [
       "   Duration  Total_Stops      Date     Month  Year  Arrival_Hour  \\\n",
       "0  0.445225     0.029231  0.090794  0.046882   0.0      0.028225   \n",
       "\n",
       "   Arrival_Minute  Dep_Hour  Dep_Minute  Airline_Air India  Airline_GoAir  \\\n",
       "0        0.019143  0.022654    0.021154              0.005       0.001247   \n",
       "\n",
       "   Airline_IndiGo  Airline_Jet Airways  Airline_Jet Airways Business  \\\n",
       "0        0.006816             0.058748                      0.069609   \n",
       "\n",
       "   Airline_Multiple carriers  Airline_Multiple carriers Premium economy  \\\n",
       "0                   0.018736                                   0.000926   \n",
       "\n",
       "   Airline_SpiceJet  Airline_Trujet  Airline_Vistara  \\\n",
       "0          0.002623        0.000013         0.002256   \n",
       "\n",
       "   Airline_Vistara Premium economy  Source_Chennai  Source_Delhi  \\\n",
       "0                         0.000044        0.000473      0.003695   \n",
       "\n",
       "   Source_Kolkata  Source_Mumbai  Destination_Cochin  Destination_Delhi  \\\n",
       "0        0.004588       0.002878            0.003564           0.000634   \n",
       "\n",
       "   Destination_Hyderabad  Destination_Kolkata  Destination_New Delhi  \\\n",
       "0                0.00279             0.000516               0.027981   \n",
       "\n",
       "   Additional_Info_1 Short layover  Additional_Info_2 Long layover  \\\n",
       "0                         0.000713                        0.000799   \n",
       "\n",
       "   Additional_Info_Business class  Additional_Info_Change airports  \\\n",
       "0                        0.000505                         0.000676   \n",
       "\n",
       "   Additional_Info_In-flight meal not included  Additional_Info_No Info  \\\n",
       "0                                     0.076459                 0.004371   \n",
       "\n",
       "   Additional_Info_No check-in baggage included  \\\n",
       "0                                       0.00003   \n",
       "\n",
       "   Additional_Info_Red-eye flight  \n",
       "0                        0.000004  "
      ]
     },
     "execution_count": 113,
     "metadata": {},
     "output_type": "execute_result"
    }
   ],
   "source": [
    "feature_importance= pd.DataFrame(rfr.feature_importances_.reshape(1,-1), columns= X_train.columns)\n",
    "feature_importance"
   ]
  },
  {
   "cell_type": "code",
   "execution_count": 114,
   "id": "86d6a065",
   "metadata": {},
   "outputs": [
    {
     "name": "stdout",
     "output_type": "stream",
     "text": [
      "662.7179999192954\n",
      "2312689.2513799253\n",
      "0.8855015233095928\n"
     ]
    }
   ],
   "source": [
    "from sklearn.metrics import r2_score, mean_absolute_error,mean_squared_error\n",
    "\n",
    "predictions = rfr.predict(X_test)\n",
    "print(mean_absolute_error(y_test,predictions))\n",
    "print(mean_squared_error(y_test,predictions))\n",
    "print(r2_score(y_test,predictions))"
   ]
  },
  {
   "cell_type": "code",
   "execution_count": 116,
   "id": "5ede1cd7",
   "metadata": {},
   "outputs": [],
   "source": [
    "import xgboost as xgb\n",
    "regressor = xgb.XGBRegressor(\n",
    "    n_estimators=100,\n",
    "    reg_lambda=1,\n",
    "    gamma=0,\n",
    "    max_depth=3\n",
    ")"
   ]
  },
  {
   "cell_type": "code",
   "execution_count": 117,
   "id": "e8019b35",
   "metadata": {},
   "outputs": [
    {
     "data": {
      "text/html": [
       "<div>\n",
       "<style scoped>\n",
       "    .dataframe tbody tr th:only-of-type {\n",
       "        vertical-align: middle;\n",
       "    }\n",
       "\n",
       "    .dataframe tbody tr th {\n",
       "        vertical-align: top;\n",
       "    }\n",
       "\n",
       "    .dataframe thead th {\n",
       "        text-align: right;\n",
       "    }\n",
       "</style>\n",
       "<table border=\"1\" class=\"dataframe\">\n",
       "  <thead>\n",
       "    <tr style=\"text-align: right;\">\n",
       "      <th></th>\n",
       "      <th>Duration</th>\n",
       "      <th>Total_Stops</th>\n",
       "      <th>Date</th>\n",
       "      <th>Month</th>\n",
       "      <th>Year</th>\n",
       "      <th>Arrival_Hour</th>\n",
       "      <th>Arrival_Minute</th>\n",
       "      <th>Dep_Hour</th>\n",
       "      <th>Dep_Minute</th>\n",
       "      <th>Airline_Air India</th>\n",
       "      <th>Airline_GoAir</th>\n",
       "      <th>Airline_IndiGo</th>\n",
       "      <th>Airline_Jet Airways</th>\n",
       "      <th>Airline_Jet Airways Business</th>\n",
       "      <th>Airline_Multiple carriers</th>\n",
       "      <th>Airline_Multiple carriers Premium economy</th>\n",
       "      <th>Airline_SpiceJet</th>\n",
       "      <th>Airline_Trujet</th>\n",
       "      <th>Airline_Vistara</th>\n",
       "      <th>Airline_Vistara Premium economy</th>\n",
       "      <th>Source_Chennai</th>\n",
       "      <th>Source_Delhi</th>\n",
       "      <th>Source_Kolkata</th>\n",
       "      <th>Source_Mumbai</th>\n",
       "      <th>Destination_Cochin</th>\n",
       "      <th>Destination_Delhi</th>\n",
       "      <th>Destination_Hyderabad</th>\n",
       "      <th>Destination_Kolkata</th>\n",
       "      <th>Destination_New Delhi</th>\n",
       "      <th>Additional_Info_1 Short layover</th>\n",
       "      <th>Additional_Info_2 Long layover</th>\n",
       "      <th>Additional_Info_Business class</th>\n",
       "      <th>Additional_Info_Change airports</th>\n",
       "      <th>Additional_Info_In-flight meal not included</th>\n",
       "      <th>Additional_Info_No Info</th>\n",
       "      <th>Additional_Info_No check-in baggage included</th>\n",
       "      <th>Additional_Info_Red-eye flight</th>\n",
       "    </tr>\n",
       "  </thead>\n",
       "  <tbody>\n",
       "    <tr>\n",
       "      <th>0</th>\n",
       "      <td>0.114013</td>\n",
       "      <td>0.030788</td>\n",
       "      <td>0.074304</td>\n",
       "      <td>0.025474</td>\n",
       "      <td>0.0</td>\n",
       "      <td>0.008517</td>\n",
       "      <td>0.004142</td>\n",
       "      <td>0.006035</td>\n",
       "      <td>0.004157</td>\n",
       "      <td>0.005873</td>\n",
       "      <td>0.007586</td>\n",
       "      <td>0.137997</td>\n",
       "      <td>0.076766</td>\n",
       "      <td>0.181818</td>\n",
       "      <td>0.023513</td>\n",
       "      <td>0.002362</td>\n",
       "      <td>0.026142</td>\n",
       "      <td>0.000933</td>\n",
       "      <td>0.002766</td>\n",
       "      <td>0.000404</td>\n",
       "      <td>0.0</td>\n",
       "      <td>0.011819</td>\n",
       "      <td>0.015422</td>\n",
       "      <td>0.011956</td>\n",
       "      <td>0.0</td>\n",
       "      <td>0.009877</td>\n",
       "      <td>0.0</td>\n",
       "      <td>0.0</td>\n",
       "      <td>0.033278</td>\n",
       "      <td>0.001499</td>\n",
       "      <td>0.001206</td>\n",
       "      <td>0.004466</td>\n",
       "      <td>0.00103</td>\n",
       "      <td>0.163236</td>\n",
       "      <td>0.01262</td>\n",
       "      <td>0.0</td>\n",
       "      <td>0.0</td>\n",
       "    </tr>\n",
       "  </tbody>\n",
       "</table>\n",
       "</div>"
      ],
      "text/plain": [
       "   Duration  Total_Stops      Date     Month  Year  Arrival_Hour  \\\n",
       "0  0.114013     0.030788  0.074304  0.025474   0.0      0.008517   \n",
       "\n",
       "   Arrival_Minute  Dep_Hour  Dep_Minute  Airline_Air India  Airline_GoAir  \\\n",
       "0        0.004142  0.006035    0.004157           0.005873       0.007586   \n",
       "\n",
       "   Airline_IndiGo  Airline_Jet Airways  Airline_Jet Airways Business  \\\n",
       "0        0.137997             0.076766                      0.181818   \n",
       "\n",
       "   Airline_Multiple carriers  Airline_Multiple carriers Premium economy  \\\n",
       "0                   0.023513                                   0.002362   \n",
       "\n",
       "   Airline_SpiceJet  Airline_Trujet  Airline_Vistara  \\\n",
       "0          0.026142        0.000933         0.002766   \n",
       "\n",
       "   Airline_Vistara Premium economy  Source_Chennai  Source_Delhi  \\\n",
       "0                         0.000404             0.0      0.011819   \n",
       "\n",
       "   Source_Kolkata  Source_Mumbai  Destination_Cochin  Destination_Delhi  \\\n",
       "0        0.015422       0.011956                 0.0           0.009877   \n",
       "\n",
       "   Destination_Hyderabad  Destination_Kolkata  Destination_New Delhi  \\\n",
       "0                    0.0                  0.0               0.033278   \n",
       "\n",
       "   Additional_Info_1 Short layover  Additional_Info_2 Long layover  \\\n",
       "0                         0.001499                        0.001206   \n",
       "\n",
       "   Additional_Info_Business class  Additional_Info_Change airports  \\\n",
       "0                        0.004466                          0.00103   \n",
       "\n",
       "   Additional_Info_In-flight meal not included  Additional_Info_No Info  \\\n",
       "0                                     0.163236                  0.01262   \n",
       "\n",
       "   Additional_Info_No check-in baggage included  \\\n",
       "0                                           0.0   \n",
       "\n",
       "   Additional_Info_Red-eye flight  \n",
       "0                             0.0  "
      ]
     },
     "execution_count": 117,
     "metadata": {},
     "output_type": "execute_result"
    }
   ],
   "source": [
    "regressor.fit(X_train, y_train)\n",
    "pd.DataFrame(regressor.feature_importances_.reshape(1, -1), columns=X_train.columns)"
   ]
  },
  {
   "cell_type": "code",
   "execution_count": 118,
   "id": "a673f1a5",
   "metadata": {},
   "outputs": [
    {
     "name": "stdout",
     "output_type": "stream",
     "text": [
      "1128.9846287386652\n",
      "2951745.825126631\n",
      "0.8538625972544258\n"
     ]
    }
   ],
   "source": [
    "predictions = regressor.predict(X_test)\n",
    "print(mean_absolute_error(y_test,predictions))\n",
    "print(mean_squared_error(y_test,predictions))\n",
    "print(r2_score(y_test,predictions))"
   ]
  },
  {
   "cell_type": "markdown",
   "id": "03a81c5d",
   "metadata": {},
   "source": [
    "#### dropping duration, as duration and Total_stops have high correlation"
   ]
  },
  {
   "cell_type": "code",
   "execution_count": 120,
   "id": "dcb1af15",
   "metadata": {},
   "outputs": [],
   "source": [
    "df2= train_df.drop(columns='Duration',axis=1)"
   ]
  },
  {
   "cell_type": "code",
   "execution_count": 121,
   "id": "b2e24d3b",
   "metadata": {},
   "outputs": [],
   "source": [
    "X= df2.drop(columns='Price',axis=1)\n",
    "y= df2['Price']\n",
    "X_train, X_test, y_train, y_test = train_test_split(X, y, test_size=0.3, random_state=42)"
   ]
  },
  {
   "cell_type": "code",
   "execution_count": 122,
   "id": "c4ed6652",
   "metadata": {},
   "outputs": [
    {
     "data": {
      "text/html": [
       "<div>\n",
       "<style scoped>\n",
       "    .dataframe tbody tr th:only-of-type {\n",
       "        vertical-align: middle;\n",
       "    }\n",
       "\n",
       "    .dataframe tbody tr th {\n",
       "        vertical-align: top;\n",
       "    }\n",
       "\n",
       "    .dataframe thead th {\n",
       "        text-align: right;\n",
       "    }\n",
       "</style>\n",
       "<table border=\"1\" class=\"dataframe\">\n",
       "  <thead>\n",
       "    <tr style=\"text-align: right;\">\n",
       "      <th></th>\n",
       "      <th>Total_Stops</th>\n",
       "      <th>Date</th>\n",
       "      <th>Month</th>\n",
       "      <th>Year</th>\n",
       "      <th>Arrival_Hour</th>\n",
       "      <th>Arrival_Minute</th>\n",
       "      <th>Dep_Hour</th>\n",
       "      <th>Dep_Minute</th>\n",
       "      <th>Airline_Air India</th>\n",
       "      <th>Airline_GoAir</th>\n",
       "      <th>Airline_IndiGo</th>\n",
       "      <th>Airline_Jet Airways</th>\n",
       "      <th>Airline_Jet Airways Business</th>\n",
       "      <th>Airline_Multiple carriers</th>\n",
       "      <th>Airline_Multiple carriers Premium economy</th>\n",
       "      <th>Airline_SpiceJet</th>\n",
       "      <th>Airline_Trujet</th>\n",
       "      <th>Airline_Vistara</th>\n",
       "      <th>Airline_Vistara Premium economy</th>\n",
       "      <th>Source_Chennai</th>\n",
       "      <th>Source_Delhi</th>\n",
       "      <th>Source_Kolkata</th>\n",
       "      <th>Source_Mumbai</th>\n",
       "      <th>Destination_Cochin</th>\n",
       "      <th>Destination_Delhi</th>\n",
       "      <th>Destination_Hyderabad</th>\n",
       "      <th>Destination_Kolkata</th>\n",
       "      <th>Destination_New Delhi</th>\n",
       "      <th>Additional_Info_1 Short layover</th>\n",
       "      <th>Additional_Info_2 Long layover</th>\n",
       "      <th>Additional_Info_Business class</th>\n",
       "      <th>Additional_Info_Change airports</th>\n",
       "      <th>Additional_Info_In-flight meal not included</th>\n",
       "      <th>Additional_Info_No Info</th>\n",
       "      <th>Additional_Info_No check-in baggage included</th>\n",
       "      <th>Additional_Info_Red-eye flight</th>\n",
       "    </tr>\n",
       "  </thead>\n",
       "  <tbody>\n",
       "    <tr>\n",
       "      <th>0</th>\n",
       "      <td>0.409845</td>\n",
       "      <td>0.092282</td>\n",
       "      <td>0.048443</td>\n",
       "      <td>0.0</td>\n",
       "      <td>0.03778</td>\n",
       "      <td>0.024834</td>\n",
       "      <td>0.035001</td>\n",
       "      <td>0.024498</td>\n",
       "      <td>0.006581</td>\n",
       "      <td>0.000895</td>\n",
       "      <td>0.021774</td>\n",
       "      <td>0.068175</td>\n",
       "      <td>0.062467</td>\n",
       "      <td>0.020874</td>\n",
       "      <td>0.001066</td>\n",
       "      <td>0.002344</td>\n",
       "      <td>0.000207</td>\n",
       "      <td>0.003943</td>\n",
       "      <td>0.000042</td>\n",
       "      <td>0.00037</td>\n",
       "      <td>0.004116</td>\n",
       "      <td>0.005076</td>\n",
       "      <td>0.004409</td>\n",
       "      <td>0.00408</td>\n",
       "      <td>0.000277</td>\n",
       "      <td>0.003723</td>\n",
       "      <td>0.000349</td>\n",
       "      <td>0.027469</td>\n",
       "      <td>0.000954</td>\n",
       "      <td>0.001153</td>\n",
       "      <td>0.003276</td>\n",
       "      <td>0.000904</td>\n",
       "      <td>0.076424</td>\n",
       "      <td>0.006326</td>\n",
       "      <td>0.000044</td>\n",
       "      <td>5.252838e-07</td>\n",
       "    </tr>\n",
       "  </tbody>\n",
       "</table>\n",
       "</div>"
      ],
      "text/plain": [
       "   Total_Stops      Date     Month  Year  Arrival_Hour  Arrival_Minute  \\\n",
       "0     0.409845  0.092282  0.048443   0.0       0.03778        0.024834   \n",
       "\n",
       "   Dep_Hour  Dep_Minute  Airline_Air India  Airline_GoAir  Airline_IndiGo  \\\n",
       "0  0.035001    0.024498           0.006581       0.000895        0.021774   \n",
       "\n",
       "   Airline_Jet Airways  Airline_Jet Airways Business  \\\n",
       "0             0.068175                      0.062467   \n",
       "\n",
       "   Airline_Multiple carriers  Airline_Multiple carriers Premium economy  \\\n",
       "0                   0.020874                                   0.001066   \n",
       "\n",
       "   Airline_SpiceJet  Airline_Trujet  Airline_Vistara  \\\n",
       "0          0.002344        0.000207         0.003943   \n",
       "\n",
       "   Airline_Vistara Premium economy  Source_Chennai  Source_Delhi  \\\n",
       "0                         0.000042         0.00037      0.004116   \n",
       "\n",
       "   Source_Kolkata  Source_Mumbai  Destination_Cochin  Destination_Delhi  \\\n",
       "0        0.005076       0.004409             0.00408           0.000277   \n",
       "\n",
       "   Destination_Hyderabad  Destination_Kolkata  Destination_New Delhi  \\\n",
       "0               0.003723             0.000349               0.027469   \n",
       "\n",
       "   Additional_Info_1 Short layover  Additional_Info_2 Long layover  \\\n",
       "0                         0.000954                        0.001153   \n",
       "\n",
       "   Additional_Info_Business class  Additional_Info_Change airports  \\\n",
       "0                        0.003276                         0.000904   \n",
       "\n",
       "   Additional_Info_In-flight meal not included  Additional_Info_No Info  \\\n",
       "0                                     0.076424                 0.006326   \n",
       "\n",
       "   Additional_Info_No check-in baggage included  \\\n",
       "0                                      0.000044   \n",
       "\n",
       "   Additional_Info_Red-eye flight  \n",
       "0                    5.252838e-07  "
      ]
     },
     "execution_count": 122,
     "metadata": {},
     "output_type": "execute_result"
    }
   ],
   "source": [
    "rfr2 = RandomForestRegressor()\n",
    "\n",
    "rfr2.fit(X_train,y_train)\n",
    "\n",
    "feature_importance= pd.DataFrame(rfr2.feature_importances_.reshape(1,-1), columns= X_train.columns)\n",
    "feature_importance"
   ]
  },
  {
   "cell_type": "code",
   "execution_count": 123,
   "id": "e4c5123a",
   "metadata": {},
   "outputs": [
    {
     "name": "stdout",
     "output_type": "stream",
     "text": [
      "633.0554641532328\n",
      "1753115.3947644904\n",
      "0.9132053551754669\n"
     ]
    }
   ],
   "source": [
    "predictions = rfr2.predict(X_test)\n",
    "print(mean_absolute_error(y_test,predictions))\n",
    "print(mean_squared_error(y_test,predictions))\n",
    "print(r2_score(y_test,predictions))"
   ]
  },
  {
   "cell_type": "code",
   "execution_count": 124,
   "id": "6f169c7d",
   "metadata": {},
   "outputs": [
    {
     "data": {
      "text/html": [
       "<div>\n",
       "<style scoped>\n",
       "    .dataframe tbody tr th:only-of-type {\n",
       "        vertical-align: middle;\n",
       "    }\n",
       "\n",
       "    .dataframe tbody tr th {\n",
       "        vertical-align: top;\n",
       "    }\n",
       "\n",
       "    .dataframe thead th {\n",
       "        text-align: right;\n",
       "    }\n",
       "</style>\n",
       "<table border=\"1\" class=\"dataframe\">\n",
       "  <thead>\n",
       "    <tr style=\"text-align: right;\">\n",
       "      <th></th>\n",
       "      <th>Total_Stops</th>\n",
       "      <th>Date</th>\n",
       "      <th>Month</th>\n",
       "      <th>Year</th>\n",
       "      <th>Arrival_Hour</th>\n",
       "      <th>Arrival_Minute</th>\n",
       "      <th>Dep_Hour</th>\n",
       "      <th>Dep_Minute</th>\n",
       "      <th>Airline_Air India</th>\n",
       "      <th>Airline_GoAir</th>\n",
       "      <th>Airline_IndiGo</th>\n",
       "      <th>Airline_Jet Airways</th>\n",
       "      <th>Airline_Jet Airways Business</th>\n",
       "      <th>Airline_Multiple carriers</th>\n",
       "      <th>Airline_Multiple carriers Premium economy</th>\n",
       "      <th>Airline_SpiceJet</th>\n",
       "      <th>Airline_Trujet</th>\n",
       "      <th>Airline_Vistara</th>\n",
       "      <th>Airline_Vistara Premium economy</th>\n",
       "      <th>Source_Chennai</th>\n",
       "      <th>Source_Delhi</th>\n",
       "      <th>Source_Kolkata</th>\n",
       "      <th>Source_Mumbai</th>\n",
       "      <th>Destination_Cochin</th>\n",
       "      <th>Destination_Delhi</th>\n",
       "      <th>Destination_Hyderabad</th>\n",
       "      <th>Destination_Kolkata</th>\n",
       "      <th>Destination_New Delhi</th>\n",
       "      <th>Additional_Info_1 Short layover</th>\n",
       "      <th>Additional_Info_2 Long layover</th>\n",
       "      <th>Additional_Info_Business class</th>\n",
       "      <th>Additional_Info_Change airports</th>\n",
       "      <th>Additional_Info_In-flight meal not included</th>\n",
       "      <th>Additional_Info_No Info</th>\n",
       "      <th>Additional_Info_No check-in baggage included</th>\n",
       "      <th>Additional_Info_Red-eye flight</th>\n",
       "    </tr>\n",
       "  </thead>\n",
       "  <tbody>\n",
       "    <tr>\n",
       "      <th>0</th>\n",
       "      <td>0.225246</td>\n",
       "      <td>0.044355</td>\n",
       "      <td>0.021671</td>\n",
       "      <td>0.0</td>\n",
       "      <td>0.005779</td>\n",
       "      <td>0.004729</td>\n",
       "      <td>0.006853</td>\n",
       "      <td>0.004138</td>\n",
       "      <td>0.00566</td>\n",
       "      <td>0.008975</td>\n",
       "      <td>0.107053</td>\n",
       "      <td>0.07376</td>\n",
       "      <td>0.153534</td>\n",
       "      <td>0.011061</td>\n",
       "      <td>0.001782</td>\n",
       "      <td>0.045328</td>\n",
       "      <td>0.00141</td>\n",
       "      <td>0.003633</td>\n",
       "      <td>0.000442</td>\n",
       "      <td>0.003319</td>\n",
       "      <td>0.012734</td>\n",
       "      <td>0.010854</td>\n",
       "      <td>0.011437</td>\n",
       "      <td>0.0</td>\n",
       "      <td>0.001203</td>\n",
       "      <td>0.0</td>\n",
       "      <td>0.0</td>\n",
       "      <td>0.024895</td>\n",
       "      <td>0.001942</td>\n",
       "      <td>0.001473</td>\n",
       "      <td>0.00836</td>\n",
       "      <td>0.003164</td>\n",
       "      <td>0.18074</td>\n",
       "      <td>0.013874</td>\n",
       "      <td>0.0</td>\n",
       "      <td>0.000596</td>\n",
       "    </tr>\n",
       "  </tbody>\n",
       "</table>\n",
       "</div>"
      ],
      "text/plain": [
       "   Total_Stops      Date     Month  Year  Arrival_Hour  Arrival_Minute  \\\n",
       "0     0.225246  0.044355  0.021671   0.0      0.005779        0.004729   \n",
       "\n",
       "   Dep_Hour  Dep_Minute  Airline_Air India  Airline_GoAir  Airline_IndiGo  \\\n",
       "0  0.006853    0.004138            0.00566       0.008975        0.107053   \n",
       "\n",
       "   Airline_Jet Airways  Airline_Jet Airways Business  \\\n",
       "0              0.07376                      0.153534   \n",
       "\n",
       "   Airline_Multiple carriers  Airline_Multiple carriers Premium economy  \\\n",
       "0                   0.011061                                   0.001782   \n",
       "\n",
       "   Airline_SpiceJet  Airline_Trujet  Airline_Vistara  \\\n",
       "0          0.045328         0.00141         0.003633   \n",
       "\n",
       "   Airline_Vistara Premium economy  Source_Chennai  Source_Delhi  \\\n",
       "0                         0.000442        0.003319      0.012734   \n",
       "\n",
       "   Source_Kolkata  Source_Mumbai  Destination_Cochin  Destination_Delhi  \\\n",
       "0        0.010854       0.011437                 0.0           0.001203   \n",
       "\n",
       "   Destination_Hyderabad  Destination_Kolkata  Destination_New Delhi  \\\n",
       "0                    0.0                  0.0               0.024895   \n",
       "\n",
       "   Additional_Info_1 Short layover  Additional_Info_2 Long layover  \\\n",
       "0                         0.001942                        0.001473   \n",
       "\n",
       "   Additional_Info_Business class  Additional_Info_Change airports  \\\n",
       "0                         0.00836                         0.003164   \n",
       "\n",
       "   Additional_Info_In-flight meal not included  Additional_Info_No Info  \\\n",
       "0                                      0.18074                 0.013874   \n",
       "\n",
       "   Additional_Info_No check-in baggage included  \\\n",
       "0                                           0.0   \n",
       "\n",
       "   Additional_Info_Red-eye flight  \n",
       "0                        0.000596  "
      ]
     },
     "execution_count": 124,
     "metadata": {},
     "output_type": "execute_result"
    }
   ],
   "source": [
    "regressor2 = xgb.XGBRegressor(\n",
    "    n_estimators=100,\n",
    "    reg_lambda=1,\n",
    "    gamma=0,\n",
    "    max_depth=3\n",
    ")\n",
    "\n",
    "regressor2.fit(X_train, y_train)\n",
    "pd.DataFrame(regressor2.feature_importances_.reshape(1, -1), columns=X_train.columns)"
   ]
  },
  {
   "cell_type": "code",
   "execution_count": 125,
   "id": "d0f142d1",
   "metadata": {},
   "outputs": [
    {
     "name": "stdout",
     "output_type": "stream",
     "text": [
      "1135.7238817902326\n",
      "2906013.898327726\n",
      "0.8561267302119633\n"
     ]
    }
   ],
   "source": [
    "predictions = regressor2.predict(X_test)\n",
    "print(mean_absolute_error(y_test,predictions))\n",
    "print(mean_squared_error(y_test,predictions))\n",
    "print(r2_score(y_test,predictions))"
   ]
  },
  {
   "cell_type": "markdown",
   "id": "1035b9d7",
   "metadata": {},
   "source": [
    "###  Hyperparameter Tuning"
   ]
  },
  {
   "cell_type": "code",
   "execution_count": 126,
   "id": "592cd0f0",
   "metadata": {},
   "outputs": [
    {
     "name": "stdout",
     "output_type": "stream",
     "text": [
      "Fitting 5 folds for each of 10 candidates, totalling 50 fits\n",
      "[CV] END max_depth=10, max_features=sqrt, min_samples_leaf=5, min_samples_split=5, n_estimators=900; total time=   7.1s\n",
      "[CV] END max_depth=10, max_features=sqrt, min_samples_leaf=5, min_samples_split=5, n_estimators=900; total time=   6.8s\n",
      "[CV] END max_depth=10, max_features=sqrt, min_samples_leaf=5, min_samples_split=5, n_estimators=900; total time=   6.9s\n",
      "[CV] END max_depth=10, max_features=sqrt, min_samples_leaf=5, min_samples_split=5, n_estimators=900; total time=   5.8s\n",
      "[CV] END max_depth=10, max_features=sqrt, min_samples_leaf=5, min_samples_split=5, n_estimators=900; total time=   6.0s\n",
      "[CV] END max_depth=15, max_features=sqrt, min_samples_leaf=2, min_samples_split=10, n_estimators=1100; total time=  10.8s\n",
      "[CV] END max_depth=15, max_features=sqrt, min_samples_leaf=2, min_samples_split=10, n_estimators=1100; total time=  11.0s\n",
      "[CV] END max_depth=15, max_features=sqrt, min_samples_leaf=2, min_samples_split=10, n_estimators=1100; total time=   9.4s\n",
      "[CV] END max_depth=15, max_features=sqrt, min_samples_leaf=2, min_samples_split=10, n_estimators=1100; total time=  10.3s\n",
      "[CV] END max_depth=15, max_features=sqrt, min_samples_leaf=2, min_samples_split=10, n_estimators=1100; total time=   9.4s\n",
      "[CV] END max_depth=15, max_features=auto, min_samples_leaf=5, min_samples_split=100, n_estimators=300; total time=   4.7s\n",
      "[CV] END max_depth=15, max_features=auto, min_samples_leaf=5, min_samples_split=100, n_estimators=300; total time=   5.0s\n",
      "[CV] END max_depth=15, max_features=auto, min_samples_leaf=5, min_samples_split=100, n_estimators=300; total time=   6.4s\n",
      "[CV] END max_depth=15, max_features=auto, min_samples_leaf=5, min_samples_split=100, n_estimators=300; total time=   6.4s\n",
      "[CV] END max_depth=15, max_features=auto, min_samples_leaf=5, min_samples_split=100, n_estimators=300; total time=   5.2s\n",
      "[CV] END max_depth=15, max_features=auto, min_samples_leaf=5, min_samples_split=5, n_estimators=400; total time=   8.9s\n",
      "[CV] END max_depth=15, max_features=auto, min_samples_leaf=5, min_samples_split=5, n_estimators=400; total time=   7.8s\n",
      "[CV] END max_depth=15, max_features=auto, min_samples_leaf=5, min_samples_split=5, n_estimators=400; total time=   8.5s\n",
      "[CV] END max_depth=15, max_features=auto, min_samples_leaf=5, min_samples_split=5, n_estimators=400; total time=   8.3s\n",
      "[CV] END max_depth=15, max_features=auto, min_samples_leaf=5, min_samples_split=5, n_estimators=400; total time=   8.6s\n",
      "[CV] END max_depth=20, max_features=auto, min_samples_leaf=10, min_samples_split=5, n_estimators=700; total time=  14.1s\n",
      "[CV] END max_depth=20, max_features=auto, min_samples_leaf=10, min_samples_split=5, n_estimators=700; total time=  13.9s\n",
      "[CV] END max_depth=20, max_features=auto, min_samples_leaf=10, min_samples_split=5, n_estimators=700; total time=  14.0s\n",
      "[CV] END max_depth=20, max_features=auto, min_samples_leaf=10, min_samples_split=5, n_estimators=700; total time=  14.1s\n",
      "[CV] END max_depth=20, max_features=auto, min_samples_leaf=10, min_samples_split=5, n_estimators=700; total time=  14.9s\n",
      "[CV] END max_depth=25, max_features=sqrt, min_samples_leaf=1, min_samples_split=2, n_estimators=1000; total time=  13.3s\n",
      "[CV] END max_depth=25, max_features=sqrt, min_samples_leaf=1, min_samples_split=2, n_estimators=1000; total time=  13.7s\n",
      "[CV] END max_depth=25, max_features=sqrt, min_samples_leaf=1, min_samples_split=2, n_estimators=1000; total time=  13.6s\n",
      "[CV] END max_depth=25, max_features=sqrt, min_samples_leaf=1, min_samples_split=2, n_estimators=1000; total time=  14.7s\n",
      "[CV] END max_depth=25, max_features=sqrt, min_samples_leaf=1, min_samples_split=2, n_estimators=1000; total time=  13.1s\n",
      "[CV] END max_depth=5, max_features=sqrt, min_samples_leaf=10, min_samples_split=15, n_estimators=1100; total time=   5.8s\n",
      "[CV] END max_depth=5, max_features=sqrt, min_samples_leaf=10, min_samples_split=15, n_estimators=1100; total time=   6.1s\n",
      "[CV] END max_depth=5, max_features=sqrt, min_samples_leaf=10, min_samples_split=15, n_estimators=1100; total time=   4.9s\n",
      "[CV] END max_depth=5, max_features=sqrt, min_samples_leaf=10, min_samples_split=15, n_estimators=1100; total time=   4.7s\n",
      "[CV] END max_depth=5, max_features=sqrt, min_samples_leaf=10, min_samples_split=15, n_estimators=1100; total time=   5.2s\n",
      "[CV] END max_depth=15, max_features=sqrt, min_samples_leaf=1, min_samples_split=15, n_estimators=300; total time=   2.4s\n",
      "[CV] END max_depth=15, max_features=sqrt, min_samples_leaf=1, min_samples_split=15, n_estimators=300; total time=   2.1s\n",
      "[CV] END max_depth=15, max_features=sqrt, min_samples_leaf=1, min_samples_split=15, n_estimators=300; total time=   2.1s\n",
      "[CV] END max_depth=15, max_features=sqrt, min_samples_leaf=1, min_samples_split=15, n_estimators=300; total time=   3.0s\n",
      "[CV] END max_depth=15, max_features=sqrt, min_samples_leaf=1, min_samples_split=15, n_estimators=300; total time=   3.0s\n",
      "[CV] END max_depth=5, max_features=sqrt, min_samples_leaf=2, min_samples_split=10, n_estimators=700; total time=   3.9s\n",
      "[CV] END max_depth=5, max_features=sqrt, min_samples_leaf=2, min_samples_split=10, n_estimators=700; total time=   3.0s\n",
      "[CV] END max_depth=5, max_features=sqrt, min_samples_leaf=2, min_samples_split=10, n_estimators=700; total time=   3.2s\n",
      "[CV] END max_depth=5, max_features=sqrt, min_samples_leaf=2, min_samples_split=10, n_estimators=700; total time=   3.7s\n",
      "[CV] END max_depth=5, max_features=sqrt, min_samples_leaf=2, min_samples_split=10, n_estimators=700; total time=   3.4s\n",
      "[CV] END max_depth=20, max_features=auto, min_samples_leaf=1, min_samples_split=15, n_estimators=700; total time=  16.2s\n",
      "[CV] END max_depth=20, max_features=auto, min_samples_leaf=1, min_samples_split=15, n_estimators=700; total time=  16.2s\n",
      "[CV] END max_depth=20, max_features=auto, min_samples_leaf=1, min_samples_split=15, n_estimators=700; total time=  16.1s\n",
      "[CV] END max_depth=20, max_features=auto, min_samples_leaf=1, min_samples_split=15, n_estimators=700; total time=  17.7s\n",
      "[CV] END max_depth=20, max_features=auto, min_samples_leaf=1, min_samples_split=15, n_estimators=700; total time=  16.3s\n",
      "{'n_estimators': 700, 'min_samples_split': 15, 'min_samples_leaf': 1, 'max_features': 'auto', 'max_depth': 20}\n",
      "761.7879290888746\n",
      "2181118.867472983\n",
      "0.8920154155352467\n"
     ]
    }
   ],
   "source": [
    "from sklearn.model_selection import RandomizedSearchCV\n",
    "#Randomized Search CV\n",
    "# Number of trees in random forest\n",
    "n_estimators = [int(x) for x in np.linspace(start = 100, stop = 1200, num = 12)]\n",
    "# Number of features to consider at every split\n",
    "max_features = ['auto', 'sqrt']\n",
    "# Maximum number of levels in tree\n",
    "max_depth = [int(x) for x in np.linspace(5, 30, num = 6)]\n",
    "# Minimum number of samples required to split a node\n",
    "min_samples_split = [2, 5, 10, 15, 100]\n",
    "# Minimum number of samples required at each leaf node\n",
    "min_samples_leaf = [1, 2, 5, 10]\n",
    "# Create the random grid\n",
    "random_grid = {'n_estimators': n_estimators,\n",
    "               'max_features': max_features,\n",
    "               'max_depth': max_depth,\n",
    "               'min_samples_split': min_samples_split,\n",
    "               'min_samples_leaf': min_samples_leaf}\n",
    "# Random search of parameters, using 5 fold cross validation, \n",
    "# search across 100 different combinations\n",
    "rf_random = RandomizedSearchCV(estimator = rfr2, param_distributions = random_grid,scoring='neg_mean_squared_error', n_iter = 10, cv = 5, verbose=2, random_state=42, n_jobs = 1)\n",
    "rf_random.fit(X_train,y_train)\n",
    "print(rf_random.best_params_)\n",
    "\n",
    "predictions = rf_random.predict(X_test)\n",
    "print(mean_absolute_error(y_test,predictions))\n",
    "print(mean_squared_error(y_test,predictions))\n",
    "print(r2_score(y_test,predictions))"
   ]
  },
  {
   "cell_type": "code",
   "execution_count": null,
   "id": "4db810a8",
   "metadata": {},
   "outputs": [],
   "source": []
  }
 ],
 "metadata": {
  "kernelspec": {
   "display_name": "Python 3",
   "language": "python",
   "name": "python3"
  },
  "language_info": {
   "codemirror_mode": {
    "name": "ipython",
    "version": 3
   },
   "file_extension": ".py",
   "mimetype": "text/x-python",
   "name": "python",
   "nbconvert_exporter": "python",
   "pygments_lexer": "ipython3",
   "version": "3.8.8"
  }
 },
 "nbformat": 4,
 "nbformat_minor": 5
}
